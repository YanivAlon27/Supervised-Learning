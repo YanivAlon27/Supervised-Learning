{
 "cells": [
  {
   "cell_type": "markdown",
   "id": "b7c9812d",
   "metadata": {},
   "source": [
    "# Project: Beta Bank "
   ]
  },
  {
   "cell_type": "markdown",
   "id": "4fc69b46",
   "metadata": {},
   "source": [
    "## Table of Contents\n",
    "\n",
    "* [Project description](#Project_description)\n",
    "* [Description of the data](#data)\n",
    "* [Open the data file](#open)\n",
    "    * [get_dummies for Gender feature](#get_dummies)\n",
    "    * [Label Encoding](#Label_Encoding)\n",
    "* [EDA](#EDA)\n",
    "* [Split the source data ](#split)\n",
    "* [Feature Scaling](#Scaling)\n",
    "* [Check the quality of the model using the test set](#test)\n",
    "* [Examine the balance of classes. Train the model without taking into account the imbalance](#Train_no_balance)\n",
    "* [Improve the quality of the model](#Improve_the_quality)\n",
    "    * [Upsampling](#Upsampling)\n",
    "    * [Downsampeling](#Downsampeling)\n",
    "* [Test](#test)\n",
    "* [Conclusion](#conclusion)"
   ]
  },
  {
   "cell_type": "markdown",
   "id": "085942f0",
   "metadata": {},
   "source": [
    "## Project description <a class=\"anchor\" id=\"Project_description\"></a>\n"
   ]
  },
  {
   "cell_type": "markdown",
   "id": "7526df52",
   "metadata": {},
   "source": [
    "Beta Bank customers are leaving: little by little, chipping away every month. The bankers figured out it’s cheaper to save the existing customers rather than to attract new ones.\n",
    "\n",
    "**We need to predict whether a customer will leave the bank soon.**\n",
    "\n",
    " You have the data on clients’ past behavior and termination of contracts with the bank.\n",
    " \n",
    "Build a model with the maximum possible F1 score. To pass the project, **you need an F1 score of at least 0.59.** Check the F1 for the test set.\n",
    "\n",
    "**Additionally, measure the AUC-ROC metric and compare it with the F1.**"
   ]
  },
  {
   "cell_type": "markdown",
   "id": "37b7a97d",
   "metadata": {},
   "source": [
    "## Data description <a class=\"anchor\" id=\"data\"></a>"
   ]
  },
  {
   "cell_type": "markdown",
   "id": "e88cf928",
   "metadata": {},
   "source": [
    "**Features**\n",
    "* RowNumber — data string index\n",
    "* CustomerId — unique customer identifier\n",
    "* Surname — surname\n",
    "* CreditScore — credit score\n",
    "* Geography — country of residence\n",
    "* Gender — gender\n",
    "* Age — age\n",
    "* Tenure — period of maturation for a customer’s fixed deposit (years)\n",
    "* Balance — account balance\n",
    "* NumOfProducts — number of banking products used by the customer\n",
    "* HasCrCard — customer has a credit card\n",
    "* IsActiveMember — customer’s activeness\n",
    "* EstimatedSalary — estimated salary\n",
    " \n",
    "**Target**\n",
    "* Exited — сustomer has left"
   ]
  },
  {
   "cell_type": "markdown",
   "id": "03abd201",
   "metadata": {},
   "source": [
    "## Download and prepare the data  <a class=\"anchor\" id=\"open\"></a>"
   ]
  },
  {
   "cell_type": "code",
   "execution_count": 1,
   "id": "e3a8b2ab",
   "metadata": {},
   "outputs": [],
   "source": [
    "#import libraries\n",
    "import pandas as pd\n",
    "import numpy as np\n",
    "import matplotlib.pyplot as plt\n",
    "import math\n",
    "from scipy import stats as st\n",
    "import seaborn as sns\n",
    "from sklearn.tree import DecisionTreeClassifier\n",
    "from sklearn.metrics import accuracy_score\n",
    "from joblib import dump\n",
    "from sklearn.model_selection import train_test_split\n",
    "from sklearn.ensemble import RandomForestClassifier \n",
    "from sklearn.metrics import mean_squared_error\n",
    "from sklearn.preprocessing import OrdinalEncoder\n",
    "from sklearn.utils import shuffle\n",
    "from sklearn.metrics import f1_score\n",
    "from sklearn.ensemble import RandomForestRegressor\n",
    "from sklearn.preprocessing import LabelEncoder\n",
    "from sklearn.preprocessing import StandardScaler\n",
    "from sklearn.linear_model import LogisticRegression\n",
    "from sklearn.preprocessing import OrdinalEncoder \n",
    "from sklearn.metrics import precision_score, recall_score\n",
    "from sklearn.metrics import roc_auc_score\n",
    "from sklearn.metrics import roc_curve"
   ]
  },
  {
   "cell_type": "code",
   "execution_count": 2,
   "id": "88dfbbb7",
   "metadata": {},
   "outputs": [],
   "source": [
    " try:\n",
    "    data = pd.read_csv('Churn.csv')    \n",
    "except:\n",
    "    print(\"Something went wrong when opening the file\")"
   ]
  },
  {
   "cell_type": "code",
   "execution_count": 3,
   "id": "4accc461",
   "metadata": {},
   "outputs": [
    {
     "name": "stdout",
     "output_type": "stream",
     "text": [
      "<class 'pandas.core.frame.DataFrame'>\n",
      "RangeIndex: 10000 entries, 0 to 9999\n",
      "Data columns (total 14 columns):\n",
      " #   Column           Non-Null Count  Dtype  \n",
      "---  ------           --------------  -----  \n",
      " 0   RowNumber        10000 non-null  int64  \n",
      " 1   CustomerId       10000 non-null  int64  \n",
      " 2   Surname          10000 non-null  object \n",
      " 3   CreditScore      10000 non-null  int64  \n",
      " 4   Geography        10000 non-null  object \n",
      " 5   Gender           10000 non-null  object \n",
      " 6   Age              10000 non-null  int64  \n",
      " 7   Tenure           9091 non-null   float64\n",
      " 8   Balance          10000 non-null  float64\n",
      " 9   NumOfProducts    10000 non-null  int64  \n",
      " 10  HasCrCard        10000 non-null  int64  \n",
      " 11  IsActiveMember   10000 non-null  int64  \n",
      " 12  EstimatedSalary  10000 non-null  float64\n",
      " 13  Exited           10000 non-null  int64  \n",
      "dtypes: float64(3), int64(8), object(3)\n",
      "memory usage: 1.1+ MB\n"
     ]
    }
   ],
   "source": [
    "data.info()"
   ]
  },
  {
   "cell_type": "code",
   "execution_count": 4,
   "id": "964f2a2f",
   "metadata": {},
   "outputs": [
    {
     "data": {
      "text/html": [
       "<div>\n",
       "<style scoped>\n",
       "    .dataframe tbody tr th:only-of-type {\n",
       "        vertical-align: middle;\n",
       "    }\n",
       "\n",
       "    .dataframe tbody tr th {\n",
       "        vertical-align: top;\n",
       "    }\n",
       "\n",
       "    .dataframe thead th {\n",
       "        text-align: right;\n",
       "    }\n",
       "</style>\n",
       "<table border=\"1\" class=\"dataframe\">\n",
       "  <thead>\n",
       "    <tr style=\"text-align: right;\">\n",
       "      <th></th>\n",
       "      <th>RowNumber</th>\n",
       "      <th>CustomerId</th>\n",
       "      <th>Surname</th>\n",
       "      <th>CreditScore</th>\n",
       "      <th>Geography</th>\n",
       "      <th>Gender</th>\n",
       "      <th>Age</th>\n",
       "      <th>Tenure</th>\n",
       "      <th>Balance</th>\n",
       "      <th>NumOfProducts</th>\n",
       "      <th>HasCrCard</th>\n",
       "      <th>IsActiveMember</th>\n",
       "      <th>EstimatedSalary</th>\n",
       "      <th>Exited</th>\n",
       "    </tr>\n",
       "  </thead>\n",
       "  <tbody>\n",
       "    <tr>\n",
       "      <th>0</th>\n",
       "      <td>1</td>\n",
       "      <td>15634602</td>\n",
       "      <td>Hargrave</td>\n",
       "      <td>619</td>\n",
       "      <td>France</td>\n",
       "      <td>Female</td>\n",
       "      <td>42</td>\n",
       "      <td>2.0</td>\n",
       "      <td>0.00</td>\n",
       "      <td>1</td>\n",
       "      <td>1</td>\n",
       "      <td>1</td>\n",
       "      <td>101348.88</td>\n",
       "      <td>1</td>\n",
       "    </tr>\n",
       "    <tr>\n",
       "      <th>1</th>\n",
       "      <td>2</td>\n",
       "      <td>15647311</td>\n",
       "      <td>Hill</td>\n",
       "      <td>608</td>\n",
       "      <td>Spain</td>\n",
       "      <td>Female</td>\n",
       "      <td>41</td>\n",
       "      <td>1.0</td>\n",
       "      <td>83807.86</td>\n",
       "      <td>1</td>\n",
       "      <td>0</td>\n",
       "      <td>1</td>\n",
       "      <td>112542.58</td>\n",
       "      <td>0</td>\n",
       "    </tr>\n",
       "    <tr>\n",
       "      <th>2</th>\n",
       "      <td>3</td>\n",
       "      <td>15619304</td>\n",
       "      <td>Onio</td>\n",
       "      <td>502</td>\n",
       "      <td>France</td>\n",
       "      <td>Female</td>\n",
       "      <td>42</td>\n",
       "      <td>8.0</td>\n",
       "      <td>159660.80</td>\n",
       "      <td>3</td>\n",
       "      <td>1</td>\n",
       "      <td>0</td>\n",
       "      <td>113931.57</td>\n",
       "      <td>1</td>\n",
       "    </tr>\n",
       "    <tr>\n",
       "      <th>3</th>\n",
       "      <td>4</td>\n",
       "      <td>15701354</td>\n",
       "      <td>Boni</td>\n",
       "      <td>699</td>\n",
       "      <td>France</td>\n",
       "      <td>Female</td>\n",
       "      <td>39</td>\n",
       "      <td>1.0</td>\n",
       "      <td>0.00</td>\n",
       "      <td>2</td>\n",
       "      <td>0</td>\n",
       "      <td>0</td>\n",
       "      <td>93826.63</td>\n",
       "      <td>0</td>\n",
       "    </tr>\n",
       "    <tr>\n",
       "      <th>4</th>\n",
       "      <td>5</td>\n",
       "      <td>15737888</td>\n",
       "      <td>Mitchell</td>\n",
       "      <td>850</td>\n",
       "      <td>Spain</td>\n",
       "      <td>Female</td>\n",
       "      <td>43</td>\n",
       "      <td>2.0</td>\n",
       "      <td>125510.82</td>\n",
       "      <td>1</td>\n",
       "      <td>1</td>\n",
       "      <td>1</td>\n",
       "      <td>79084.10</td>\n",
       "      <td>0</td>\n",
       "    </tr>\n",
       "  </tbody>\n",
       "</table>\n",
       "</div>"
      ],
      "text/plain": [
       "   RowNumber  CustomerId   Surname  CreditScore Geography  Gender  Age  \\\n",
       "0          1    15634602  Hargrave          619    France  Female   42   \n",
       "1          2    15647311      Hill          608     Spain  Female   41   \n",
       "2          3    15619304      Onio          502    France  Female   42   \n",
       "3          4    15701354      Boni          699    France  Female   39   \n",
       "4          5    15737888  Mitchell          850     Spain  Female   43   \n",
       "\n",
       "   Tenure    Balance  NumOfProducts  HasCrCard  IsActiveMember  \\\n",
       "0     2.0       0.00              1          1               1   \n",
       "1     1.0   83807.86              1          0               1   \n",
       "2     8.0  159660.80              3          1               0   \n",
       "3     1.0       0.00              2          0               0   \n",
       "4     2.0  125510.82              1          1               1   \n",
       "\n",
       "   EstimatedSalary  Exited  \n",
       "0        101348.88       1  \n",
       "1        112542.58       0  \n",
       "2        113931.57       1  \n",
       "3         93826.63       0  \n",
       "4         79084.10       0  "
      ]
     },
     "execution_count": 4,
     "metadata": {},
     "output_type": "execute_result"
    }
   ],
   "source": [
    "data.head(5)"
   ]
  },
  {
   "cell_type": "code",
   "execution_count": 5,
   "id": "e41052bf",
   "metadata": {},
   "outputs": [
    {
     "data": {
      "text/html": [
       "<div>\n",
       "<style scoped>\n",
       "    .dataframe tbody tr th:only-of-type {\n",
       "        vertical-align: middle;\n",
       "    }\n",
       "\n",
       "    .dataframe tbody tr th {\n",
       "        vertical-align: top;\n",
       "    }\n",
       "\n",
       "    .dataframe thead th {\n",
       "        text-align: right;\n",
       "    }\n",
       "</style>\n",
       "<table border=\"1\" class=\"dataframe\">\n",
       "  <thead>\n",
       "    <tr style=\"text-align: right;\">\n",
       "      <th></th>\n",
       "      <th>missing_values</th>\n",
       "      <th>% of total</th>\n",
       "    </tr>\n",
       "  </thead>\n",
       "  <tbody>\n",
       "    <tr>\n",
       "      <th>Tenure</th>\n",
       "      <td>909</td>\n",
       "      <td>0.09</td>\n",
       "    </tr>\n",
       "    <tr>\n",
       "      <th>RowNumber</th>\n",
       "      <td>0</td>\n",
       "      <td>0.00</td>\n",
       "    </tr>\n",
       "    <tr>\n",
       "      <th>CustomerId</th>\n",
       "      <td>0</td>\n",
       "      <td>0.00</td>\n",
       "    </tr>\n",
       "    <tr>\n",
       "      <th>Surname</th>\n",
       "      <td>0</td>\n",
       "      <td>0.00</td>\n",
       "    </tr>\n",
       "    <tr>\n",
       "      <th>CreditScore</th>\n",
       "      <td>0</td>\n",
       "      <td>0.00</td>\n",
       "    </tr>\n",
       "    <tr>\n",
       "      <th>Geography</th>\n",
       "      <td>0</td>\n",
       "      <td>0.00</td>\n",
       "    </tr>\n",
       "    <tr>\n",
       "      <th>Gender</th>\n",
       "      <td>0</td>\n",
       "      <td>0.00</td>\n",
       "    </tr>\n",
       "    <tr>\n",
       "      <th>Age</th>\n",
       "      <td>0</td>\n",
       "      <td>0.00</td>\n",
       "    </tr>\n",
       "    <tr>\n",
       "      <th>Balance</th>\n",
       "      <td>0</td>\n",
       "      <td>0.00</td>\n",
       "    </tr>\n",
       "    <tr>\n",
       "      <th>NumOfProducts</th>\n",
       "      <td>0</td>\n",
       "      <td>0.00</td>\n",
       "    </tr>\n",
       "    <tr>\n",
       "      <th>HasCrCard</th>\n",
       "      <td>0</td>\n",
       "      <td>0.00</td>\n",
       "    </tr>\n",
       "    <tr>\n",
       "      <th>IsActiveMember</th>\n",
       "      <td>0</td>\n",
       "      <td>0.00</td>\n",
       "    </tr>\n",
       "    <tr>\n",
       "      <th>EstimatedSalary</th>\n",
       "      <td>0</td>\n",
       "      <td>0.00</td>\n",
       "    </tr>\n",
       "    <tr>\n",
       "      <th>Exited</th>\n",
       "      <td>0</td>\n",
       "      <td>0.00</td>\n",
       "    </tr>\n",
       "  </tbody>\n",
       "</table>\n",
       "</div>"
      ],
      "text/plain": [
       "                 missing_values  % of total\n",
       "Tenure                      909        0.09\n",
       "RowNumber                     0        0.00\n",
       "CustomerId                    0        0.00\n",
       "Surname                       0        0.00\n",
       "CreditScore                   0        0.00\n",
       "Geography                     0        0.00\n",
       "Gender                        0        0.00\n",
       "Age                           0        0.00\n",
       "Balance                       0        0.00\n",
       "NumOfProducts                 0        0.00\n",
       "HasCrCard                     0        0.00\n",
       "IsActiveMember                0        0.00\n",
       "EstimatedSalary               0        0.00\n",
       "Exited                        0        0.00"
      ]
     },
     "execution_count": 5,
     "metadata": {},
     "output_type": "execute_result"
    }
   ],
   "source": [
    "report = data.isna().sum().to_frame()\n",
    "report = report.rename(columns = {0: 'missing_values'})\n",
    "report['% of total'] = (report['missing_values'] / data.shape[0]).round(2)\n",
    "report.sort_values(by = 'missing_values', ascending = False)"
   ]
  },
  {
   "cell_type": "markdown",
   "id": "94e0dfc3",
   "metadata": {},
   "source": [
    "<div style=\"border:solid black 2px; padding: 20px\"> <b>Note:</b><br>\n",
    "909 missing values for ''Tenure''"
   ]
  },
  {
   "cell_type": "code",
   "execution_count": 6,
   "id": "efcd2db5",
   "metadata": {},
   "outputs": [
    {
     "name": "stdout",
     "output_type": "stream",
     "text": [
      "duplicates number: 0\n"
     ]
    }
   ],
   "source": [
    "print(\"duplicates number: {}\".format(data.duplicated().sum()))"
   ]
  },
  {
   "cell_type": "code",
   "execution_count": 7,
   "id": "a420b460",
   "metadata": {},
   "outputs": [
    {
     "data": {
      "text/plain": [
       "array([ 2.,  1.,  8.,  7.,  4.,  6.,  3., 10.,  5.,  9.,  0., nan])"
      ]
     },
     "execution_count": 7,
     "metadata": {},
     "output_type": "execute_result"
    }
   ],
   "source": [
    "data['Tenure'].unique()"
   ]
  },
  {
   "cell_type": "code",
   "execution_count": 8,
   "id": "6c6820ca",
   "metadata": {},
   "outputs": [
    {
     "data": {
      "text/html": [
       "<div>\n",
       "<style scoped>\n",
       "    .dataframe tbody tr th:only-of-type {\n",
       "        vertical-align: middle;\n",
       "    }\n",
       "\n",
       "    .dataframe tbody tr th {\n",
       "        vertical-align: top;\n",
       "    }\n",
       "\n",
       "    .dataframe thead th {\n",
       "        text-align: right;\n",
       "    }\n",
       "</style>\n",
       "<table border=\"1\" class=\"dataframe\">\n",
       "  <thead>\n",
       "    <tr style=\"text-align: right;\">\n",
       "      <th></th>\n",
       "      <th>RowNumber</th>\n",
       "      <th>CustomerId</th>\n",
       "      <th>Surname</th>\n",
       "      <th>CreditScore</th>\n",
       "      <th>Geography</th>\n",
       "      <th>Gender</th>\n",
       "      <th>Age</th>\n",
       "      <th>Tenure</th>\n",
       "      <th>Balance</th>\n",
       "      <th>NumOfProducts</th>\n",
       "      <th>HasCrCard</th>\n",
       "      <th>IsActiveMember</th>\n",
       "      <th>EstimatedSalary</th>\n",
       "      <th>Exited</th>\n",
       "    </tr>\n",
       "  </thead>\n",
       "  <tbody>\n",
       "    <tr>\n",
       "      <th>576</th>\n",
       "      <td>577</td>\n",
       "      <td>15761986</td>\n",
       "      <td>Obialo</td>\n",
       "      <td>439</td>\n",
       "      <td>Spain</td>\n",
       "      <td>Female</td>\n",
       "      <td>32</td>\n",
       "      <td>NaN</td>\n",
       "      <td>138901.61</td>\n",
       "      <td>1</td>\n",
       "      <td>1</td>\n",
       "      <td>0</td>\n",
       "      <td>75685.97</td>\n",
       "      <td>0</td>\n",
       "    </tr>\n",
       "    <tr>\n",
       "      <th>3250</th>\n",
       "      <td>3251</td>\n",
       "      <td>15587419</td>\n",
       "      <td>Shipton</td>\n",
       "      <td>611</td>\n",
       "      <td>France</td>\n",
       "      <td>Male</td>\n",
       "      <td>58</td>\n",
       "      <td>NaN</td>\n",
       "      <td>0.00</td>\n",
       "      <td>2</td>\n",
       "      <td>0</td>\n",
       "      <td>1</td>\n",
       "      <td>107665.68</td>\n",
       "      <td>1</td>\n",
       "    </tr>\n",
       "    <tr>\n",
       "      <th>2927</th>\n",
       "      <td>2928</td>\n",
       "      <td>15669656</td>\n",
       "      <td>Macdonald</td>\n",
       "      <td>632</td>\n",
       "      <td>France</td>\n",
       "      <td>Male</td>\n",
       "      <td>32</td>\n",
       "      <td>NaN</td>\n",
       "      <td>111589.33</td>\n",
       "      <td>1</td>\n",
       "      <td>1</td>\n",
       "      <td>1</td>\n",
       "      <td>170382.99</td>\n",
       "      <td>0</td>\n",
       "    </tr>\n",
       "    <tr>\n",
       "      <th>8991</th>\n",
       "      <td>8992</td>\n",
       "      <td>15698902</td>\n",
       "      <td>McIntyre</td>\n",
       "      <td>547</td>\n",
       "      <td>Germany</td>\n",
       "      <td>Female</td>\n",
       "      <td>42</td>\n",
       "      <td>NaN</td>\n",
       "      <td>142703.40</td>\n",
       "      <td>1</td>\n",
       "      <td>1</td>\n",
       "      <td>0</td>\n",
       "      <td>86207.49</td>\n",
       "      <td>1</td>\n",
       "    </tr>\n",
       "    <tr>\n",
       "      <th>6783</th>\n",
       "      <td>6784</td>\n",
       "      <td>15651955</td>\n",
       "      <td>Hanson</td>\n",
       "      <td>603</td>\n",
       "      <td>France</td>\n",
       "      <td>Male</td>\n",
       "      <td>31</td>\n",
       "      <td>NaN</td>\n",
       "      <td>0.00</td>\n",
       "      <td>2</td>\n",
       "      <td>0</td>\n",
       "      <td>1</td>\n",
       "      <td>9607.10</td>\n",
       "      <td>0</td>\n",
       "    </tr>\n",
       "  </tbody>\n",
       "</table>\n",
       "</div>"
      ],
      "text/plain": [
       "      RowNumber  CustomerId    Surname  CreditScore Geography  Gender  Age  \\\n",
       "576         577    15761986     Obialo          439     Spain  Female   32   \n",
       "3250       3251    15587419    Shipton          611    France    Male   58   \n",
       "2927       2928    15669656  Macdonald          632    France    Male   32   \n",
       "8991       8992    15698902   McIntyre          547   Germany  Female   42   \n",
       "6783       6784    15651955     Hanson          603    France    Male   31   \n",
       "\n",
       "      Tenure    Balance  NumOfProducts  HasCrCard  IsActiveMember  \\\n",
       "576      NaN  138901.61              1          1               0   \n",
       "3250     NaN       0.00              2          0               1   \n",
       "2927     NaN  111589.33              1          1               1   \n",
       "8991     NaN  142703.40              1          1               0   \n",
       "6783     NaN       0.00              2          0               1   \n",
       "\n",
       "      EstimatedSalary  Exited  \n",
       "576          75685.97       0  \n",
       "3250        107665.68       1  \n",
       "2927        170382.99       0  \n",
       "8991         86207.49       1  \n",
       "6783          9607.10       0  "
      ]
     },
     "execution_count": 8,
     "metadata": {},
     "output_type": "execute_result"
    }
   ],
   "source": [
    "data[data['Tenure'].isna()].sample(5)"
   ]
  },
  {
   "cell_type": "code",
   "execution_count": 9,
   "id": "842352c9",
   "metadata": {},
   "outputs": [
    {
     "data": {
      "text/html": [
       "<div>\n",
       "<style scoped>\n",
       "    .dataframe tbody tr th:only-of-type {\n",
       "        vertical-align: middle;\n",
       "    }\n",
       "\n",
       "    .dataframe tbody tr th {\n",
       "        vertical-align: top;\n",
       "    }\n",
       "\n",
       "    .dataframe thead th {\n",
       "        text-align: right;\n",
       "    }\n",
       "</style>\n",
       "<table border=\"1\" class=\"dataframe\">\n",
       "  <thead>\n",
       "    <tr style=\"text-align: right;\">\n",
       "      <th></th>\n",
       "      <th>RowNumber</th>\n",
       "      <th>CustomerId</th>\n",
       "      <th>Surname</th>\n",
       "      <th>CreditScore</th>\n",
       "      <th>Geography</th>\n",
       "      <th>Gender</th>\n",
       "      <th>Age</th>\n",
       "      <th>Tenure</th>\n",
       "      <th>Balance</th>\n",
       "      <th>NumOfProducts</th>\n",
       "      <th>HasCrCard</th>\n",
       "      <th>IsActiveMember</th>\n",
       "      <th>EstimatedSalary</th>\n",
       "      <th>Exited</th>\n",
       "    </tr>\n",
       "  </thead>\n",
       "  <tbody>\n",
       "    <tr>\n",
       "      <th>2264</th>\n",
       "      <td>2265</td>\n",
       "      <td>15812945</td>\n",
       "      <td>Padovesi</td>\n",
       "      <td>582</td>\n",
       "      <td>France</td>\n",
       "      <td>Female</td>\n",
       "      <td>29</td>\n",
       "      <td>0.0</td>\n",
       "      <td>0.00</td>\n",
       "      <td>1</td>\n",
       "      <td>1</td>\n",
       "      <td>1</td>\n",
       "      <td>84012.81</td>\n",
       "      <td>0</td>\n",
       "    </tr>\n",
       "    <tr>\n",
       "      <th>2003</th>\n",
       "      <td>2004</td>\n",
       "      <td>15799350</td>\n",
       "      <td>Mao</td>\n",
       "      <td>632</td>\n",
       "      <td>France</td>\n",
       "      <td>Male</td>\n",
       "      <td>41</td>\n",
       "      <td>0.0</td>\n",
       "      <td>106134.46</td>\n",
       "      <td>1</td>\n",
       "      <td>0</td>\n",
       "      <td>1</td>\n",
       "      <td>105570.39</td>\n",
       "      <td>0</td>\n",
       "    </tr>\n",
       "    <tr>\n",
       "      <th>7951</th>\n",
       "      <td>7952</td>\n",
       "      <td>15644699</td>\n",
       "      <td>Crawford</td>\n",
       "      <td>850</td>\n",
       "      <td>France</td>\n",
       "      <td>Female</td>\n",
       "      <td>40</td>\n",
       "      <td>0.0</td>\n",
       "      <td>0.00</td>\n",
       "      <td>2</td>\n",
       "      <td>1</td>\n",
       "      <td>0</td>\n",
       "      <td>1099.95</td>\n",
       "      <td>0</td>\n",
       "    </tr>\n",
       "    <tr>\n",
       "      <th>8390</th>\n",
       "      <td>8391</td>\n",
       "      <td>15755521</td>\n",
       "      <td>Ma</td>\n",
       "      <td>660</td>\n",
       "      <td>France</td>\n",
       "      <td>Female</td>\n",
       "      <td>48</td>\n",
       "      <td>0.0</td>\n",
       "      <td>90044.32</td>\n",
       "      <td>2</td>\n",
       "      <td>0</td>\n",
       "      <td>1</td>\n",
       "      <td>187604.97</td>\n",
       "      <td>1</td>\n",
       "    </tr>\n",
       "    <tr>\n",
       "      <th>7845</th>\n",
       "      <td>7846</td>\n",
       "      <td>15622774</td>\n",
       "      <td>Kao</td>\n",
       "      <td>648</td>\n",
       "      <td>France</td>\n",
       "      <td>Male</td>\n",
       "      <td>34</td>\n",
       "      <td>0.0</td>\n",
       "      <td>0.00</td>\n",
       "      <td>1</td>\n",
       "      <td>1</td>\n",
       "      <td>1</td>\n",
       "      <td>167931.81</td>\n",
       "      <td>0</td>\n",
       "    </tr>\n",
       "  </tbody>\n",
       "</table>\n",
       "</div>"
      ],
      "text/plain": [
       "      RowNumber  CustomerId   Surname  CreditScore Geography  Gender  Age  \\\n",
       "2264       2265    15812945  Padovesi          582    France  Female   29   \n",
       "2003       2004    15799350       Mao          632    France    Male   41   \n",
       "7951       7952    15644699  Crawford          850    France  Female   40   \n",
       "8390       8391    15755521        Ma          660    France  Female   48   \n",
       "7845       7846    15622774       Kao          648    France    Male   34   \n",
       "\n",
       "      Tenure    Balance  NumOfProducts  HasCrCard  IsActiveMember  \\\n",
       "2264     0.0       0.00              1          1               1   \n",
       "2003     0.0  106134.46              1          0               1   \n",
       "7951     0.0       0.00              2          1               0   \n",
       "8390     0.0   90044.32              2          0               1   \n",
       "7845     0.0       0.00              1          1               1   \n",
       "\n",
       "      EstimatedSalary  Exited  \n",
       "2264         84012.81       0  \n",
       "2003        105570.39       0  \n",
       "7951          1099.95       0  \n",
       "8390        187604.97       1  \n",
       "7845        167931.81       0  "
      ]
     },
     "execution_count": 9,
     "metadata": {},
     "output_type": "execute_result"
    }
   ],
   "source": [
    "data[data['Tenure']==0].sample(5)"
   ]
  },
  {
   "cell_type": "code",
   "execution_count": 10,
   "id": "767bb0f6",
   "metadata": {},
   "outputs": [],
   "source": [
    "features_l =[]\n",
    "for feature in data.columns:\n",
    "    if feature != \"Tenure\":\n",
    "        features_l.append(feature)"
   ]
  },
  {
   "cell_type": "code",
   "execution_count": 11,
   "id": "e3b91c92",
   "metadata": {},
   "outputs": [
    {
     "data": {
      "text/plain": [
       "['RowNumber',\n",
       " 'CustomerId',\n",
       " 'Surname',\n",
       " 'CreditScore',\n",
       " 'Geography',\n",
       " 'Gender',\n",
       " 'Age',\n",
       " 'Balance',\n",
       " 'NumOfProducts',\n",
       " 'HasCrCard',\n",
       " 'IsActiveMember',\n",
       " 'EstimatedSalary',\n",
       " 'Exited']"
      ]
     },
     "execution_count": 11,
     "metadata": {},
     "output_type": "execute_result"
    }
   ],
   "source": [
    "features_l"
   ]
  },
  {
   "cell_type": "code",
   "execution_count": 12,
   "id": "b02bdcdd",
   "metadata": {},
   "outputs": [],
   "source": [
    "x_feature='Tenure'\n",
    "y_features = features_l"
   ]
  },
  {
   "cell_type": "code",
   "execution_count": 13,
   "id": "29cc71b6",
   "metadata": {},
   "outputs": [
    {
     "name": "stderr",
     "output_type": "stream",
     "text": [
      "No handles with labels found to put in legend.\n"
     ]
    },
    {
     "data": {
      "image/png": "[encoded data removed]",
      "text/plain": [
       "<Figure size 432x288 with 1 Axes>"
      ]
     },
     "metadata": {
      "needs_background": "light"
     },
     "output_type": "display_data"
    },
    {
     "name": "stderr",
     "output_type": "stream",
     "text": [
      "No handles with labels found to put in legend.\n"
     ]
    },
    {
     "data": {
      "image/png": "[encoded data removed]",
      "text/plain": [
       "<Figure size 432x288 with 1 Axes>"
      ]
     },
     "metadata": {
      "needs_background": "light"
     },
     "output_type": "display_data"
    },
    {
     "name": "stderr",
     "output_type": "stream",
     "text": [
      "No handles with labels found to put in legend.\n"
     ]
    },
    {
     "data": {
      "image/png": "[encoded data removed]",
      "text/plain": [
       "<Figure size 432x288 with 1 Axes>"
      ]
     },
     "metadata": {
      "needs_background": "light"
     },
     "output_type": "display_data"
    },
    {
     "name": "stderr",
     "output_type": "stream",
     "text": [
      "No handles with labels found to put in legend.\n"
     ]
    },
    {
     "data": {
      "image/png": "[encoded data removed]",
      "text/plain": [
       "<Figure size 432x288 with 1 Axes>"
      ]
     },
     "metadata": {
      "needs_background": "light"
     },
     "output_type": "display_data"
    },
    {
     "name": "stderr",
     "output_type": "stream",
     "text": [
      "No handles with labels found to put in legend.\n"
     ]
    },
    {
     "data": {
      "image/png": "[encoded data removed]",
      "text/plain": [
       "<Figure size 432x288 with 1 Axes>"
      ]
     },
     "metadata": {
      "needs_background": "light"
     },
     "output_type": "display_data"
    },
    {
     "name": "stderr",
     "output_type": "stream",
     "text": [
      "No handles with labels found to put in legend.\n"
     ]
    },
    {
     "data": {
      "image/png": "[encoded data removed]",
      "text/plain": [
       "<Figure size 432x288 with 1 Axes>"
      ]
     },
     "metadata": {
      "needs_background": "light"
     },
     "output_type": "display_data"
    },
    {
     "name": "stderr",
     "output_type": "stream",
     "text": [
      "No handles with labels found to put in legend.\n"
     ]
    },
    {
     "data": {
      "image/png": "[encoded data removed]",
      "text/plain": [
       "<Figure size 432x288 with 1 Axes>"
      ]
     },
     "metadata": {
      "needs_background": "light"
     },
     "output_type": "display_data"
    },
    {
     "name": "stderr",
     "output_type": "stream",
     "text": [
      "No handles with labels found to put in legend.\n"
     ]
    },
    {
     "data": {
      "image/png": "[encoded data removed]",
      "text/plain": [
       "<Figure size 432x288 with 1 Axes>"
      ]
     },
     "metadata": {
      "needs_background": "light"
     },
     "output_type": "display_data"
    },
    {
     "name": "stderr",
     "output_type": "stream",
     "text": [
      "No handles with labels found to put in legend.\n"
     ]
    },
    {
     "data": {
      "image/png": "[encoded data removed]",
      "text/plain": [
       "<Figure size 432x288 with 1 Axes>"
      ]
     },
     "metadata": {
      "needs_background": "light"
     },
     "output_type": "display_data"
    },
    {
     "name": "stderr",
     "output_type": "stream",
     "text": [
      "No handles with labels found to put in legend.\n"
     ]
    },
    {
     "data": {
      "image/png": "[encoded data removed]",
      "text/plain": [
       "<Figure size 432x288 with 1 Axes>"
      ]
     },
     "metadata": {
      "needs_background": "light"
     },
     "output_type": "display_data"
    },
    {
     "name": "stderr",
     "output_type": "stream",
     "text": [
      "No handles with labels found to put in legend.\n"
     ]
    },
    {
     "data": {
      "image/png": "[encoded data removed]",
      "text/plain": [
       "<Figure size 432x288 with 1 Axes>"
      ]
     },
     "metadata": {
      "needs_background": "light"
     },
     "output_type": "display_data"
    },
    {
     "name": "stderr",
     "output_type": "stream",
     "text": [
      "No handles with labels found to put in legend.\n"
     ]
    },
    {
     "data": {
      "image/png": "[encoded data removed]",
      "text/plain": [
       "<Figure size 432x288 with 1 Axes>"
      ]
     },
     "metadata": {
      "needs_background": "light"
     },
     "output_type": "display_data"
    },
    {
     "name": "stderr",
     "output_type": "stream",
     "text": [
      "No handles with labels found to put in legend.\n"
     ]
    },
    {
     "data": {
      "image/png": "[encoded data removed]",
      "text/plain": [
       "<Figure size 432x288 with 1 Axes>"
      ]
     },
     "metadata": {
      "needs_background": "light"
     },
     "output_type": "display_data"
    }
   ],
   "source": [
    "#plotting scatter plot for Tenure against other features  \n",
    "for y_feature in y_features:\n",
    "\n",
    "    figure = plt.figure\n",
    "    ax = plt.gca()\n",
    "    ax.scatter(data[x_feature], data[y_feature])\n",
    "    ax.set_xlabel(x_feature)\n",
    "    ax.set_ylabel(y_feature)\n",
    "    ax.set_title(\"{} vs {}\".format(x_feature, y_feature))\n",
    "\n",
    "    plt.legend()\n",
    "    plt.show()"
   ]
  },
  {
   "cell_type": "code",
   "execution_count": 14,
   "id": "c241ce54",
   "metadata": {},
   "outputs": [
    {
     "name": "stderr",
     "output_type": "stream",
     "text": [
      "No handles with labels found to put in legend.\n"
     ]
    },
    {
     "data": {
      "image/png": "[encoded data removed]",
      "text/plain": [
       "<Figure size 432x288 with 1 Axes>"
      ]
     },
     "metadata": {
      "needs_background": "light"
     },
     "output_type": "display_data"
    },
    {
     "name": "stderr",
     "output_type": "stream",
     "text": [
      "No handles with labels found to put in legend.\n"
     ]
    },
    {
     "data": {
      "image/png": "[encoded data removed]",
      "text/plain": [
       "<Figure size 432x288 with 1 Axes>"
      ]
     },
     "metadata": {
      "needs_background": "light"
     },
     "output_type": "display_data"
    },
    {
     "name": "stderr",
     "output_type": "stream",
     "text": [
      "No handles with labels found to put in legend.\n"
     ]
    },
    {
     "data": {
      "image/png": "[encoded data removed]",
      "text/plain": [
       "<Figure size 432x288 with 1 Axes>"
      ]
     },
     "metadata": {
      "needs_background": "light"
     },
     "output_type": "display_data"
    },
    {
     "name": "stderr",
     "output_type": "stream",
     "text": [
      "No handles with labels found to put in legend.\n"
     ]
    },
    {
     "data": {
      "image/png": "[encoded data removed]",
      "text/plain": [
       "<Figure size 432x288 with 1 Axes>"
      ]
     },
     "metadata": {
      "needs_background": "light"
     },
     "output_type": "display_data"
    },
    {
     "name": "stderr",
     "output_type": "stream",
     "text": [
      "No handles with labels found to put in legend.\n"
     ]
    },
    {
     "data": {
      "image/png": "[encoded data removed]",
      "text/plain": [
       "<Figure size 432x288 with 1 Axes>"
      ]
     },
     "metadata": {
      "needs_background": "light"
     },
     "output_type": "display_data"
    },
    {
     "name": "stderr",
     "output_type": "stream",
     "text": [
      "No handles with labels found to put in legend.\n"
     ]
    },
    {
     "data": {
      "image/png": "[encoded data removed]",
      "text/plain": [
       "<Figure size 432x288 with 1 Axes>"
      ]
     },
     "metadata": {
      "needs_background": "light"
     },
     "output_type": "display_data"
    },
    {
     "name": "stderr",
     "output_type": "stream",
     "text": [
      "No handles with labels found to put in legend.\n"
     ]
    },
    {
     "data": {
      "image/png": "[encoded data removed]",
      "text/plain": [
       "<Figure size 432x288 with 1 Axes>"
      ]
     },
     "metadata": {
      "needs_background": "light"
     },
     "output_type": "display_data"
    },
    {
     "name": "stderr",
     "output_type": "stream",
     "text": [
      "No handles with labels found to put in legend.\n"
     ]
    },
    {
     "data": {
      "image/png": "[encoded data removed]",
      "text/plain": [
       "<Figure size 432x288 with 1 Axes>"
      ]
     },
     "metadata": {
      "needs_background": "light"
     },
     "output_type": "display_data"
    },
    {
     "name": "stderr",
     "output_type": "stream",
     "text": [
      "No handles with labels found to put in legend.\n"
     ]
    },
    {
     "data": {
      "image/png": "[encoded data removed]",
      "text/plain": [
       "<Figure size 432x288 with 1 Axes>"
      ]
     },
     "metadata": {
      "needs_background": "light"
     },
     "output_type": "display_data"
    },
    {
     "name": "stderr",
     "output_type": "stream",
     "text": [
      "No handles with labels found to put in legend.\n"
     ]
    },
    {
     "data": {
      "image/png": "[encoded data removed]",
      "text/plain": [
       "<Figure size 432x288 with 1 Axes>"
      ]
     },
     "metadata": {
      "needs_background": "light"
     },
     "output_type": "display_data"
    },
    {
     "name": "stderr",
     "output_type": "stream",
     "text": [
      "No handles with labels found to put in legend.\n"
     ]
    },
    {
     "data": {
      "image/png": "[encoded data removed]",
      "text/plain": [
       "<Figure size 432x288 with 1 Axes>"
      ]
     },
     "metadata": {
      "needs_background": "light"
     },
     "output_type": "display_data"
    },
    {
     "name": "stderr",
     "output_type": "stream",
     "text": [
      "No handles with labels found to put in legend.\n"
     ]
    },
    {
     "data": {
      "image/png": "[encoded data removed]",
      "text/plain": [
       "<Figure size 432x288 with 1 Axes>"
      ]
     },
     "metadata": {
      "needs_background": "light"
     },
     "output_type": "display_data"
    },
    {
     "name": "stderr",
     "output_type": "stream",
     "text": [
      "No handles with labels found to put in legend.\n"
     ]
    },
    {
     "data": {
      "image/png": "[encoded data removed]",
      "text/plain": [
       "<Figure size 432x288 with 1 Axes>"
      ]
     },
     "metadata": {
      "needs_background": "light"
     },
     "output_type": "display_data"
    }
   ],
   "source": [
    "#plotting scatter plot for Tenure against other features  \n",
    "for y_feature in y_features:\n",
    "\n",
    "    figure = plt.figure\n",
    "    ax = plt.gca()\n",
    "    ax.scatter(data[y_feature], data[x_feature])\n",
    "    ax.set_xlabel(y_feature)\n",
    "    ax.set_ylabel(x_feature)\n",
    "    ax.set_title(\"{} vs {}\".format(x_feature, y_feature))\n",
    "\n",
    "    plt.legend()\n",
    "    plt.show()"
   ]
  },
  {
   "cell_type": "code",
   "execution_count": 15,
   "id": "16bfdbd0",
   "metadata": {},
   "outputs": [
    {
     "data": {
      "text/plain": [
       "10.0"
      ]
     },
     "execution_count": 15,
     "metadata": {},
     "output_type": "execute_result"
    }
   ],
   "source": [
    "data.Tenure.max()"
   ]
  },
  {
   "cell_type": "code",
   "execution_count": 16,
   "id": "c2532d7c",
   "metadata": {},
   "outputs": [
    {
     "data": {
      "text/plain": [
       "0.0"
      ]
     },
     "execution_count": 16,
     "metadata": {},
     "output_type": "execute_result"
    }
   ],
   "source": [
    "data.Tenure.min()"
   ]
  },
  {
   "cell_type": "markdown",
   "id": "da61de21",
   "metadata": {},
   "source": [
    "<div style=\"border:solid black 2px; padding: 20px\"> <b>Note:</b><br>\n",
    "The ''Tenure'' feature has na values that are not from 0 (min) to 10 (max). i tried to find a correlation to any feature that I might use a fiilna method but couldn't find any.\n",
    "Therefore I will drop those missing values, and they are less than 10% from the data."
   ]
  },
  {
   "cell_type": "code",
   "execution_count": 17,
   "id": "9ca319a3",
   "metadata": {},
   "outputs": [],
   "source": [
    "data_ = data.dropna()"
   ]
  },
  {
   "cell_type": "code",
   "execution_count": 18,
   "id": "4d23afc3",
   "metadata": {},
   "outputs": [
    {
     "data": {
      "text/html": [
       "<div>\n",
       "<style scoped>\n",
       "    .dataframe tbody tr th:only-of-type {\n",
       "        vertical-align: middle;\n",
       "    }\n",
       "\n",
       "    .dataframe tbody tr th {\n",
       "        vertical-align: top;\n",
       "    }\n",
       "\n",
       "    .dataframe thead th {\n",
       "        text-align: right;\n",
       "    }\n",
       "</style>\n",
       "<table border=\"1\" class=\"dataframe\">\n",
       "  <thead>\n",
       "    <tr style=\"text-align: right;\">\n",
       "      <th></th>\n",
       "      <th>missing_values</th>\n",
       "      <th>% of total</th>\n",
       "    </tr>\n",
       "  </thead>\n",
       "  <tbody>\n",
       "    <tr>\n",
       "      <th>RowNumber</th>\n",
       "      <td>0</td>\n",
       "      <td>0.0</td>\n",
       "    </tr>\n",
       "    <tr>\n",
       "      <th>CustomerId</th>\n",
       "      <td>0</td>\n",
       "      <td>0.0</td>\n",
       "    </tr>\n",
       "    <tr>\n",
       "      <th>Surname</th>\n",
       "      <td>0</td>\n",
       "      <td>0.0</td>\n",
       "    </tr>\n",
       "    <tr>\n",
       "      <th>CreditScore</th>\n",
       "      <td>0</td>\n",
       "      <td>0.0</td>\n",
       "    </tr>\n",
       "    <tr>\n",
       "      <th>Geography</th>\n",
       "      <td>0</td>\n",
       "      <td>0.0</td>\n",
       "    </tr>\n",
       "    <tr>\n",
       "      <th>Gender</th>\n",
       "      <td>0</td>\n",
       "      <td>0.0</td>\n",
       "    </tr>\n",
       "    <tr>\n",
       "      <th>Age</th>\n",
       "      <td>0</td>\n",
       "      <td>0.0</td>\n",
       "    </tr>\n",
       "    <tr>\n",
       "      <th>Tenure</th>\n",
       "      <td>0</td>\n",
       "      <td>0.0</td>\n",
       "    </tr>\n",
       "    <tr>\n",
       "      <th>Balance</th>\n",
       "      <td>0</td>\n",
       "      <td>0.0</td>\n",
       "    </tr>\n",
       "    <tr>\n",
       "      <th>NumOfProducts</th>\n",
       "      <td>0</td>\n",
       "      <td>0.0</td>\n",
       "    </tr>\n",
       "    <tr>\n",
       "      <th>HasCrCard</th>\n",
       "      <td>0</td>\n",
       "      <td>0.0</td>\n",
       "    </tr>\n",
       "    <tr>\n",
       "      <th>IsActiveMember</th>\n",
       "      <td>0</td>\n",
       "      <td>0.0</td>\n",
       "    </tr>\n",
       "    <tr>\n",
       "      <th>EstimatedSalary</th>\n",
       "      <td>0</td>\n",
       "      <td>0.0</td>\n",
       "    </tr>\n",
       "    <tr>\n",
       "      <th>Exited</th>\n",
       "      <td>0</td>\n",
       "      <td>0.0</td>\n",
       "    </tr>\n",
       "  </tbody>\n",
       "</table>\n",
       "</div>"
      ],
      "text/plain": [
       "                 missing_values  % of total\n",
       "RowNumber                     0         0.0\n",
       "CustomerId                    0         0.0\n",
       "Surname                       0         0.0\n",
       "CreditScore                   0         0.0\n",
       "Geography                     0         0.0\n",
       "Gender                        0         0.0\n",
       "Age                           0         0.0\n",
       "Tenure                        0         0.0\n",
       "Balance                       0         0.0\n",
       "NumOfProducts                 0         0.0\n",
       "HasCrCard                     0         0.0\n",
       "IsActiveMember                0         0.0\n",
       "EstimatedSalary               0         0.0\n",
       "Exited                        0         0.0"
      ]
     },
     "execution_count": 18,
     "metadata": {},
     "output_type": "execute_result"
    }
   ],
   "source": [
    "report = data_.isna().sum().to_frame()\n",
    "report = report.rename(columns = {0: 'missing_values'})\n",
    "report['% of total'] = (report['missing_values'] / data_.shape[0]).round(2)\n",
    "report.sort_values(by = 'missing_values', ascending = False)"
   ]
  },
  {
   "cell_type": "code",
   "execution_count": 19,
   "id": "db481dc0",
   "metadata": {},
   "outputs": [
    {
     "name": "stdout",
     "output_type": "stream",
     "text": [
      "RowNumber            int64\n",
      "CustomerId           int64\n",
      "Surname             object\n",
      "CreditScore          int64\n",
      "Geography           object\n",
      "Gender              object\n",
      "Age                  int64\n",
      "Tenure             float64\n",
      "Balance            float64\n",
      "NumOfProducts        int64\n",
      "HasCrCard            int64\n",
      "IsActiveMember       int64\n",
      "EstimatedSalary    float64\n",
      "Exited               int64\n",
      "dtype: object\n"
     ]
    }
   ],
   "source": [
    "print(data_.dtypes)"
   ]
  },
  {
   "cell_type": "code",
   "execution_count": 20,
   "id": "c6d3cfe7",
   "metadata": {},
   "outputs": [
    {
     "data": {
      "text/html": [
       "<div>\n",
       "<style scoped>\n",
       "    .dataframe tbody tr th:only-of-type {\n",
       "        vertical-align: middle;\n",
       "    }\n",
       "\n",
       "    .dataframe tbody tr th {\n",
       "        vertical-align: top;\n",
       "    }\n",
       "\n",
       "    .dataframe thead th {\n",
       "        text-align: right;\n",
       "    }\n",
       "</style>\n",
       "<table border=\"1\" class=\"dataframe\">\n",
       "  <thead>\n",
       "    <tr style=\"text-align: right;\">\n",
       "      <th></th>\n",
       "      <th>RowNumber</th>\n",
       "      <th>CustomerId</th>\n",
       "      <th>Surname</th>\n",
       "      <th>CreditScore</th>\n",
       "      <th>Geography</th>\n",
       "      <th>Gender</th>\n",
       "      <th>Age</th>\n",
       "      <th>Tenure</th>\n",
       "      <th>Balance</th>\n",
       "      <th>NumOfProducts</th>\n",
       "      <th>HasCrCard</th>\n",
       "      <th>IsActiveMember</th>\n",
       "      <th>EstimatedSalary</th>\n",
       "      <th>Exited</th>\n",
       "    </tr>\n",
       "  </thead>\n",
       "  <tbody>\n",
       "    <tr>\n",
       "      <th>0</th>\n",
       "      <td>1</td>\n",
       "      <td>15634602</td>\n",
       "      <td>Hargrave</td>\n",
       "      <td>619</td>\n",
       "      <td>France</td>\n",
       "      <td>Female</td>\n",
       "      <td>42</td>\n",
       "      <td>2.0</td>\n",
       "      <td>0.00</td>\n",
       "      <td>1</td>\n",
       "      <td>1</td>\n",
       "      <td>1</td>\n",
       "      <td>101348.88</td>\n",
       "      <td>1</td>\n",
       "    </tr>\n",
       "    <tr>\n",
       "      <th>1</th>\n",
       "      <td>2</td>\n",
       "      <td>15647311</td>\n",
       "      <td>Hill</td>\n",
       "      <td>608</td>\n",
       "      <td>Spain</td>\n",
       "      <td>Female</td>\n",
       "      <td>41</td>\n",
       "      <td>1.0</td>\n",
       "      <td>83807.86</td>\n",
       "      <td>1</td>\n",
       "      <td>0</td>\n",
       "      <td>1</td>\n",
       "      <td>112542.58</td>\n",
       "      <td>0</td>\n",
       "    </tr>\n",
       "    <tr>\n",
       "      <th>2</th>\n",
       "      <td>3</td>\n",
       "      <td>15619304</td>\n",
       "      <td>Onio</td>\n",
       "      <td>502</td>\n",
       "      <td>France</td>\n",
       "      <td>Female</td>\n",
       "      <td>42</td>\n",
       "      <td>8.0</td>\n",
       "      <td>159660.80</td>\n",
       "      <td>3</td>\n",
       "      <td>1</td>\n",
       "      <td>0</td>\n",
       "      <td>113931.57</td>\n",
       "      <td>1</td>\n",
       "    </tr>\n",
       "    <tr>\n",
       "      <th>3</th>\n",
       "      <td>4</td>\n",
       "      <td>15701354</td>\n",
       "      <td>Boni</td>\n",
       "      <td>699</td>\n",
       "      <td>France</td>\n",
       "      <td>Female</td>\n",
       "      <td>39</td>\n",
       "      <td>1.0</td>\n",
       "      <td>0.00</td>\n",
       "      <td>2</td>\n",
       "      <td>0</td>\n",
       "      <td>0</td>\n",
       "      <td>93826.63</td>\n",
       "      <td>0</td>\n",
       "    </tr>\n",
       "    <tr>\n",
       "      <th>4</th>\n",
       "      <td>5</td>\n",
       "      <td>15737888</td>\n",
       "      <td>Mitchell</td>\n",
       "      <td>850</td>\n",
       "      <td>Spain</td>\n",
       "      <td>Female</td>\n",
       "      <td>43</td>\n",
       "      <td>2.0</td>\n",
       "      <td>125510.82</td>\n",
       "      <td>1</td>\n",
       "      <td>1</td>\n",
       "      <td>1</td>\n",
       "      <td>79084.10</td>\n",
       "      <td>0</td>\n",
       "    </tr>\n",
       "  </tbody>\n",
       "</table>\n",
       "</div>"
      ],
      "text/plain": [
       "   RowNumber  CustomerId   Surname  CreditScore Geography  Gender  Age  \\\n",
       "0          1    15634602  Hargrave          619    France  Female   42   \n",
       "1          2    15647311      Hill          608     Spain  Female   41   \n",
       "2          3    15619304      Onio          502    France  Female   42   \n",
       "3          4    15701354      Boni          699    France  Female   39   \n",
       "4          5    15737888  Mitchell          850     Spain  Female   43   \n",
       "\n",
       "   Tenure    Balance  NumOfProducts  HasCrCard  IsActiveMember  \\\n",
       "0     2.0       0.00              1          1               1   \n",
       "1     1.0   83807.86              1          0               1   \n",
       "2     8.0  159660.80              3          1               0   \n",
       "3     1.0       0.00              2          0               0   \n",
       "4     2.0  125510.82              1          1               1   \n",
       "\n",
       "   EstimatedSalary  Exited  \n",
       "0        101348.88       1  \n",
       "1        112542.58       0  \n",
       "2        113931.57       1  \n",
       "3         93826.63       0  \n",
       "4         79084.10       0  "
      ]
     },
     "execution_count": 20,
     "metadata": {},
     "output_type": "execute_result"
    }
   ],
   "source": [
    "data_.head()"
   ]
  },
  {
   "cell_type": "markdown",
   "id": "132b9261",
   "metadata": {},
   "source": [
    "#### get_dummies for Gender feature<a class=\"anchor\" id=\"get_dummies\"></a>"
   ]
  },
  {
   "cell_type": "code",
   "execution_count": 21,
   "id": "60d91d65",
   "metadata": {},
   "outputs": [
    {
     "name": "stdout",
     "output_type": "stream",
     "text": [
      "   Male\n",
      "0     0\n",
      "1     0\n",
      "2     0\n",
      "3     0\n",
      "4     0\n"
     ]
    }
   ],
   "source": [
    "#get dummies only for Gender because it is a binary feature, Fenmale=0, male =1\n",
    "Gender = pd.get_dummies(data_.Gender,drop_first=True)\n",
    "print(Gender.head(5))"
   ]
  },
  {
   "cell_type": "code",
   "execution_count": 22,
   "id": "99d1d740",
   "metadata": {},
   "outputs": [
    {
     "data": {
      "text/html": [
       "<div>\n",
       "<style scoped>\n",
       "    .dataframe tbody tr th:only-of-type {\n",
       "        vertical-align: middle;\n",
       "    }\n",
       "\n",
       "    .dataframe tbody tr th {\n",
       "        vertical-align: top;\n",
       "    }\n",
       "\n",
       "    .dataframe thead th {\n",
       "        text-align: right;\n",
       "    }\n",
       "</style>\n",
       "<table border=\"1\" class=\"dataframe\">\n",
       "  <thead>\n",
       "    <tr style=\"text-align: right;\">\n",
       "      <th></th>\n",
       "      <th>RowNumber</th>\n",
       "      <th>CustomerId</th>\n",
       "      <th>Surname</th>\n",
       "      <th>CreditScore</th>\n",
       "      <th>Geography</th>\n",
       "      <th>Age</th>\n",
       "      <th>Tenure</th>\n",
       "      <th>Balance</th>\n",
       "      <th>NumOfProducts</th>\n",
       "      <th>HasCrCard</th>\n",
       "      <th>IsActiveMember</th>\n",
       "      <th>EstimatedSalary</th>\n",
       "      <th>Exited</th>\n",
       "    </tr>\n",
       "  </thead>\n",
       "  <tbody>\n",
       "    <tr>\n",
       "      <th>0</th>\n",
       "      <td>1</td>\n",
       "      <td>15634602</td>\n",
       "      <td>Hargrave</td>\n",
       "      <td>619</td>\n",
       "      <td>France</td>\n",
       "      <td>42</td>\n",
       "      <td>2.0</td>\n",
       "      <td>0.00</td>\n",
       "      <td>1</td>\n",
       "      <td>1</td>\n",
       "      <td>1</td>\n",
       "      <td>101348.88</td>\n",
       "      <td>1</td>\n",
       "    </tr>\n",
       "    <tr>\n",
       "      <th>1</th>\n",
       "      <td>2</td>\n",
       "      <td>15647311</td>\n",
       "      <td>Hill</td>\n",
       "      <td>608</td>\n",
       "      <td>Spain</td>\n",
       "      <td>41</td>\n",
       "      <td>1.0</td>\n",
       "      <td>83807.86</td>\n",
       "      <td>1</td>\n",
       "      <td>0</td>\n",
       "      <td>1</td>\n",
       "      <td>112542.58</td>\n",
       "      <td>0</td>\n",
       "    </tr>\n",
       "    <tr>\n",
       "      <th>2</th>\n",
       "      <td>3</td>\n",
       "      <td>15619304</td>\n",
       "      <td>Onio</td>\n",
       "      <td>502</td>\n",
       "      <td>France</td>\n",
       "      <td>42</td>\n",
       "      <td>8.0</td>\n",
       "      <td>159660.80</td>\n",
       "      <td>3</td>\n",
       "      <td>1</td>\n",
       "      <td>0</td>\n",
       "      <td>113931.57</td>\n",
       "      <td>1</td>\n",
       "    </tr>\n",
       "    <tr>\n",
       "      <th>3</th>\n",
       "      <td>4</td>\n",
       "      <td>15701354</td>\n",
       "      <td>Boni</td>\n",
       "      <td>699</td>\n",
       "      <td>France</td>\n",
       "      <td>39</td>\n",
       "      <td>1.0</td>\n",
       "      <td>0.00</td>\n",
       "      <td>2</td>\n",
       "      <td>0</td>\n",
       "      <td>0</td>\n",
       "      <td>93826.63</td>\n",
       "      <td>0</td>\n",
       "    </tr>\n",
       "    <tr>\n",
       "      <th>4</th>\n",
       "      <td>5</td>\n",
       "      <td>15737888</td>\n",
       "      <td>Mitchell</td>\n",
       "      <td>850</td>\n",
       "      <td>Spain</td>\n",
       "      <td>43</td>\n",
       "      <td>2.0</td>\n",
       "      <td>125510.82</td>\n",
       "      <td>1</td>\n",
       "      <td>1</td>\n",
       "      <td>1</td>\n",
       "      <td>79084.10</td>\n",
       "      <td>0</td>\n",
       "    </tr>\n",
       "  </tbody>\n",
       "</table>\n",
       "</div>"
      ],
      "text/plain": [
       "   RowNumber  CustomerId   Surname  CreditScore Geography  Age  Tenure  \\\n",
       "0          1    15634602  Hargrave          619    France   42     2.0   \n",
       "1          2    15647311      Hill          608     Spain   41     1.0   \n",
       "2          3    15619304      Onio          502    France   42     8.0   \n",
       "3          4    15701354      Boni          699    France   39     1.0   \n",
       "4          5    15737888  Mitchell          850     Spain   43     2.0   \n",
       "\n",
       "     Balance  NumOfProducts  HasCrCard  IsActiveMember  EstimatedSalary  \\\n",
       "0       0.00              1          1               1        101348.88   \n",
       "1   83807.86              1          0               1        112542.58   \n",
       "2  159660.80              3          1               0        113931.57   \n",
       "3       0.00              2          0               0         93826.63   \n",
       "4  125510.82              1          1               1         79084.10   \n",
       "\n",
       "   Exited  \n",
       "0       1  \n",
       "1       0  \n",
       "2       1  \n",
       "3       0  \n",
       "4       0  "
      ]
     },
     "execution_count": 22,
     "metadata": {},
     "output_type": "execute_result"
    }
   ],
   "source": [
    "data_ohe = data_.drop('Gender', axis=1)\n",
    "data_ohe.head()"
   ]
  },
  {
   "cell_type": "code",
   "execution_count": 23,
   "id": "7dd98a85",
   "metadata": {},
   "outputs": [
    {
     "data": {
      "text/html": [
       "<div>\n",
       "<style scoped>\n",
       "    .dataframe tbody tr th:only-of-type {\n",
       "        vertical-align: middle;\n",
       "    }\n",
       "\n",
       "    .dataframe tbody tr th {\n",
       "        vertical-align: top;\n",
       "    }\n",
       "\n",
       "    .dataframe thead th {\n",
       "        text-align: right;\n",
       "    }\n",
       "</style>\n",
       "<table border=\"1\" class=\"dataframe\">\n",
       "  <thead>\n",
       "    <tr style=\"text-align: right;\">\n",
       "      <th></th>\n",
       "      <th>RowNumber</th>\n",
       "      <th>CustomerId</th>\n",
       "      <th>Surname</th>\n",
       "      <th>CreditScore</th>\n",
       "      <th>Geography</th>\n",
       "      <th>Age</th>\n",
       "      <th>Tenure</th>\n",
       "      <th>Balance</th>\n",
       "      <th>NumOfProducts</th>\n",
       "      <th>HasCrCard</th>\n",
       "      <th>IsActiveMember</th>\n",
       "      <th>EstimatedSalary</th>\n",
       "      <th>Exited</th>\n",
       "      <th>Gender</th>\n",
       "    </tr>\n",
       "  </thead>\n",
       "  <tbody>\n",
       "    <tr>\n",
       "      <th>0</th>\n",
       "      <td>1</td>\n",
       "      <td>15634602</td>\n",
       "      <td>Hargrave</td>\n",
       "      <td>619</td>\n",
       "      <td>France</td>\n",
       "      <td>42</td>\n",
       "      <td>2.0</td>\n",
       "      <td>0.00</td>\n",
       "      <td>1</td>\n",
       "      <td>1</td>\n",
       "      <td>1</td>\n",
       "      <td>101348.88</td>\n",
       "      <td>1</td>\n",
       "      <td>0</td>\n",
       "    </tr>\n",
       "    <tr>\n",
       "      <th>1</th>\n",
       "      <td>2</td>\n",
       "      <td>15647311</td>\n",
       "      <td>Hill</td>\n",
       "      <td>608</td>\n",
       "      <td>Spain</td>\n",
       "      <td>41</td>\n",
       "      <td>1.0</td>\n",
       "      <td>83807.86</td>\n",
       "      <td>1</td>\n",
       "      <td>0</td>\n",
       "      <td>1</td>\n",
       "      <td>112542.58</td>\n",
       "      <td>0</td>\n",
       "      <td>0</td>\n",
       "    </tr>\n",
       "    <tr>\n",
       "      <th>2</th>\n",
       "      <td>3</td>\n",
       "      <td>15619304</td>\n",
       "      <td>Onio</td>\n",
       "      <td>502</td>\n",
       "      <td>France</td>\n",
       "      <td>42</td>\n",
       "      <td>8.0</td>\n",
       "      <td>159660.80</td>\n",
       "      <td>3</td>\n",
       "      <td>1</td>\n",
       "      <td>0</td>\n",
       "      <td>113931.57</td>\n",
       "      <td>1</td>\n",
       "      <td>0</td>\n",
       "    </tr>\n",
       "    <tr>\n",
       "      <th>3</th>\n",
       "      <td>4</td>\n",
       "      <td>15701354</td>\n",
       "      <td>Boni</td>\n",
       "      <td>699</td>\n",
       "      <td>France</td>\n",
       "      <td>39</td>\n",
       "      <td>1.0</td>\n",
       "      <td>0.00</td>\n",
       "      <td>2</td>\n",
       "      <td>0</td>\n",
       "      <td>0</td>\n",
       "      <td>93826.63</td>\n",
       "      <td>0</td>\n",
       "      <td>0</td>\n",
       "    </tr>\n",
       "    <tr>\n",
       "      <th>4</th>\n",
       "      <td>5</td>\n",
       "      <td>15737888</td>\n",
       "      <td>Mitchell</td>\n",
       "      <td>850</td>\n",
       "      <td>Spain</td>\n",
       "      <td>43</td>\n",
       "      <td>2.0</td>\n",
       "      <td>125510.82</td>\n",
       "      <td>1</td>\n",
       "      <td>1</td>\n",
       "      <td>1</td>\n",
       "      <td>79084.10</td>\n",
       "      <td>0</td>\n",
       "      <td>0</td>\n",
       "    </tr>\n",
       "  </tbody>\n",
       "</table>\n",
       "</div>"
      ],
      "text/plain": [
       "   RowNumber  CustomerId   Surname  CreditScore Geography  Age  Tenure  \\\n",
       "0          1    15634602  Hargrave          619    France   42     2.0   \n",
       "1          2    15647311      Hill          608     Spain   41     1.0   \n",
       "2          3    15619304      Onio          502    France   42     8.0   \n",
       "3          4    15701354      Boni          699    France   39     1.0   \n",
       "4          5    15737888  Mitchell          850     Spain   43     2.0   \n",
       "\n",
       "     Balance  NumOfProducts  HasCrCard  IsActiveMember  EstimatedSalary  \\\n",
       "0       0.00              1          1               1        101348.88   \n",
       "1   83807.86              1          0               1        112542.58   \n",
       "2  159660.80              3          1               0        113931.57   \n",
       "3       0.00              2          0               0         93826.63   \n",
       "4  125510.82              1          1               1         79084.10   \n",
       "\n",
       "   Exited  Gender  \n",
       "0       1       0  \n",
       "1       0       0  \n",
       "2       1       0  \n",
       "3       0       0  \n",
       "4       0       0  "
      ]
     },
     "execution_count": 23,
     "metadata": {},
     "output_type": "execute_result"
    }
   ],
   "source": [
    "data_ohe['Gender'] = Gender\n",
    "data_ohe.head()"
   ]
  },
  {
   "cell_type": "code",
   "execution_count": 24,
   "id": "f6ca5ba3",
   "metadata": {},
   "outputs": [
    {
     "data": {
      "text/html": [
       "<div>\n",
       "<style scoped>\n",
       "    .dataframe tbody tr th:only-of-type {\n",
       "        vertical-align: middle;\n",
       "    }\n",
       "\n",
       "    .dataframe tbody tr th {\n",
       "        vertical-align: top;\n",
       "    }\n",
       "\n",
       "    .dataframe thead th {\n",
       "        text-align: right;\n",
       "    }\n",
       "</style>\n",
       "<table border=\"1\" class=\"dataframe\">\n",
       "  <thead>\n",
       "    <tr style=\"text-align: right;\">\n",
       "      <th></th>\n",
       "      <th>RowNumber</th>\n",
       "      <th>CustomerId</th>\n",
       "      <th>Surname</th>\n",
       "      <th>CreditScore</th>\n",
       "      <th>Geography</th>\n",
       "      <th>Age</th>\n",
       "      <th>Tenure</th>\n",
       "      <th>Balance</th>\n",
       "      <th>NumOfProducts</th>\n",
       "      <th>HasCrCard</th>\n",
       "      <th>IsActiveMember</th>\n",
       "      <th>EstimatedSalary</th>\n",
       "      <th>Exited</th>\n",
       "      <th>Gender</th>\n",
       "    </tr>\n",
       "  </thead>\n",
       "  <tbody>\n",
       "    <tr>\n",
       "      <th>5</th>\n",
       "      <td>6</td>\n",
       "      <td>15574012</td>\n",
       "      <td>Chu</td>\n",
       "      <td>645</td>\n",
       "      <td>Spain</td>\n",
       "      <td>44</td>\n",
       "      <td>8.0</td>\n",
       "      <td>113755.78</td>\n",
       "      <td>2</td>\n",
       "      <td>1</td>\n",
       "      <td>0</td>\n",
       "      <td>149756.71</td>\n",
       "      <td>1</td>\n",
       "      <td>1</td>\n",
       "    </tr>\n",
       "    <tr>\n",
       "      <th>6</th>\n",
       "      <td>7</td>\n",
       "      <td>15592531</td>\n",
       "      <td>Bartlett</td>\n",
       "      <td>822</td>\n",
       "      <td>France</td>\n",
       "      <td>50</td>\n",
       "      <td>7.0</td>\n",
       "      <td>0.00</td>\n",
       "      <td>2</td>\n",
       "      <td>1</td>\n",
       "      <td>1</td>\n",
       "      <td>10062.80</td>\n",
       "      <td>0</td>\n",
       "      <td>1</td>\n",
       "    </tr>\n",
       "    <tr>\n",
       "      <th>8</th>\n",
       "      <td>9</td>\n",
       "      <td>15792365</td>\n",
       "      <td>He</td>\n",
       "      <td>501</td>\n",
       "      <td>France</td>\n",
       "      <td>44</td>\n",
       "      <td>4.0</td>\n",
       "      <td>142051.07</td>\n",
       "      <td>2</td>\n",
       "      <td>0</td>\n",
       "      <td>1</td>\n",
       "      <td>74940.50</td>\n",
       "      <td>0</td>\n",
       "      <td>1</td>\n",
       "    </tr>\n",
       "    <tr>\n",
       "      <th>9</th>\n",
       "      <td>10</td>\n",
       "      <td>15592389</td>\n",
       "      <td>H?</td>\n",
       "      <td>684</td>\n",
       "      <td>France</td>\n",
       "      <td>27</td>\n",
       "      <td>2.0</td>\n",
       "      <td>134603.88</td>\n",
       "      <td>1</td>\n",
       "      <td>1</td>\n",
       "      <td>1</td>\n",
       "      <td>71725.73</td>\n",
       "      <td>0</td>\n",
       "      <td>1</td>\n",
       "    </tr>\n",
       "    <tr>\n",
       "      <th>10</th>\n",
       "      <td>11</td>\n",
       "      <td>15767821</td>\n",
       "      <td>Bearce</td>\n",
       "      <td>528</td>\n",
       "      <td>France</td>\n",
       "      <td>31</td>\n",
       "      <td>6.0</td>\n",
       "      <td>102016.72</td>\n",
       "      <td>2</td>\n",
       "      <td>0</td>\n",
       "      <td>0</td>\n",
       "      <td>80181.12</td>\n",
       "      <td>0</td>\n",
       "      <td>1</td>\n",
       "    </tr>\n",
       "    <tr>\n",
       "      <th>...</th>\n",
       "      <td>...</td>\n",
       "      <td>...</td>\n",
       "      <td>...</td>\n",
       "      <td>...</td>\n",
       "      <td>...</td>\n",
       "      <td>...</td>\n",
       "      <td>...</td>\n",
       "      <td>...</td>\n",
       "      <td>...</td>\n",
       "      <td>...</td>\n",
       "      <td>...</td>\n",
       "      <td>...</td>\n",
       "      <td>...</td>\n",
       "      <td>...</td>\n",
       "    </tr>\n",
       "    <tr>\n",
       "      <th>9992</th>\n",
       "      <td>9993</td>\n",
       "      <td>15657105</td>\n",
       "      <td>Chukwualuka</td>\n",
       "      <td>726</td>\n",
       "      <td>Spain</td>\n",
       "      <td>36</td>\n",
       "      <td>2.0</td>\n",
       "      <td>0.00</td>\n",
       "      <td>1</td>\n",
       "      <td>1</td>\n",
       "      <td>0</td>\n",
       "      <td>195192.40</td>\n",
       "      <td>0</td>\n",
       "      <td>1</td>\n",
       "    </tr>\n",
       "    <tr>\n",
       "      <th>9993</th>\n",
       "      <td>9994</td>\n",
       "      <td>15569266</td>\n",
       "      <td>Rahman</td>\n",
       "      <td>644</td>\n",
       "      <td>France</td>\n",
       "      <td>28</td>\n",
       "      <td>7.0</td>\n",
       "      <td>155060.41</td>\n",
       "      <td>1</td>\n",
       "      <td>1</td>\n",
       "      <td>0</td>\n",
       "      <td>29179.52</td>\n",
       "      <td>0</td>\n",
       "      <td>1</td>\n",
       "    </tr>\n",
       "    <tr>\n",
       "      <th>9995</th>\n",
       "      <td>9996</td>\n",
       "      <td>15606229</td>\n",
       "      <td>Obijiaku</td>\n",
       "      <td>771</td>\n",
       "      <td>France</td>\n",
       "      <td>39</td>\n",
       "      <td>5.0</td>\n",
       "      <td>0.00</td>\n",
       "      <td>2</td>\n",
       "      <td>1</td>\n",
       "      <td>0</td>\n",
       "      <td>96270.64</td>\n",
       "      <td>0</td>\n",
       "      <td>1</td>\n",
       "    </tr>\n",
       "    <tr>\n",
       "      <th>9996</th>\n",
       "      <td>9997</td>\n",
       "      <td>15569892</td>\n",
       "      <td>Johnstone</td>\n",
       "      <td>516</td>\n",
       "      <td>France</td>\n",
       "      <td>35</td>\n",
       "      <td>10.0</td>\n",
       "      <td>57369.61</td>\n",
       "      <td>1</td>\n",
       "      <td>1</td>\n",
       "      <td>1</td>\n",
       "      <td>101699.77</td>\n",
       "      <td>0</td>\n",
       "      <td>1</td>\n",
       "    </tr>\n",
       "    <tr>\n",
       "      <th>9998</th>\n",
       "      <td>9999</td>\n",
       "      <td>15682355</td>\n",
       "      <td>Sabbatini</td>\n",
       "      <td>772</td>\n",
       "      <td>Germany</td>\n",
       "      <td>42</td>\n",
       "      <td>3.0</td>\n",
       "      <td>75075.31</td>\n",
       "      <td>2</td>\n",
       "      <td>1</td>\n",
       "      <td>0</td>\n",
       "      <td>92888.52</td>\n",
       "      <td>1</td>\n",
       "      <td>1</td>\n",
       "    </tr>\n",
       "  </tbody>\n",
       "</table>\n",
       "<p>4974 rows × 14 columns</p>\n",
       "</div>"
      ],
      "text/plain": [
       "      RowNumber  CustomerId      Surname  CreditScore Geography  Age  Tenure  \\\n",
       "5             6    15574012          Chu          645     Spain   44     8.0   \n",
       "6             7    15592531     Bartlett          822    France   50     7.0   \n",
       "8             9    15792365           He          501    France   44     4.0   \n",
       "9            10    15592389           H?          684    France   27     2.0   \n",
       "10           11    15767821       Bearce          528    France   31     6.0   \n",
       "...         ...         ...          ...          ...       ...  ...     ...   \n",
       "9992       9993    15657105  Chukwualuka          726     Spain   36     2.0   \n",
       "9993       9994    15569266       Rahman          644    France   28     7.0   \n",
       "9995       9996    15606229     Obijiaku          771    France   39     5.0   \n",
       "9996       9997    15569892    Johnstone          516    France   35    10.0   \n",
       "9998       9999    15682355    Sabbatini          772   Germany   42     3.0   \n",
       "\n",
       "        Balance  NumOfProducts  HasCrCard  IsActiveMember  EstimatedSalary  \\\n",
       "5     113755.78              2          1               0        149756.71   \n",
       "6          0.00              2          1               1         10062.80   \n",
       "8     142051.07              2          0               1         74940.50   \n",
       "9     134603.88              1          1               1         71725.73   \n",
       "10    102016.72              2          0               0         80181.12   \n",
       "...         ...            ...        ...             ...              ...   \n",
       "9992       0.00              1          1               0        195192.40   \n",
       "9993  155060.41              1          1               0         29179.52   \n",
       "9995       0.00              2          1               0         96270.64   \n",
       "9996   57369.61              1          1               1        101699.77   \n",
       "9998   75075.31              2          1               0         92888.52   \n",
       "\n",
       "      Exited  Gender  \n",
       "5          1       1  \n",
       "6          0       1  \n",
       "8          0       1  \n",
       "9          0       1  \n",
       "10         0       1  \n",
       "...      ...     ...  \n",
       "9992       0       1  \n",
       "9993       0       1  \n",
       "9995       0       1  \n",
       "9996       0       1  \n",
       "9998       1       1  \n",
       "\n",
       "[4974 rows x 14 columns]"
      ]
     },
     "execution_count": 24,
     "metadata": {},
     "output_type": "execute_result"
    }
   ],
   "source": [
    "data_ohe[data_ohe['Gender'] ==1]"
   ]
  },
  {
   "cell_type": "code",
   "execution_count": 25,
   "id": "31b6ffb9",
   "metadata": {},
   "outputs": [
    {
     "data": {
      "text/html": [
       "<div>\n",
       "<style scoped>\n",
       "    .dataframe tbody tr th:only-of-type {\n",
       "        vertical-align: middle;\n",
       "    }\n",
       "\n",
       "    .dataframe tbody tr th {\n",
       "        vertical-align: top;\n",
       "    }\n",
       "\n",
       "    .dataframe thead th {\n",
       "        text-align: right;\n",
       "    }\n",
       "</style>\n",
       "<table border=\"1\" class=\"dataframe\">\n",
       "  <thead>\n",
       "    <tr style=\"text-align: right;\">\n",
       "      <th></th>\n",
       "      <th>RowNumber</th>\n",
       "      <th>CustomerId</th>\n",
       "      <th>Surname</th>\n",
       "      <th>CreditScore</th>\n",
       "      <th>Geography</th>\n",
       "      <th>Age</th>\n",
       "      <th>Tenure</th>\n",
       "      <th>Balance</th>\n",
       "      <th>NumOfProducts</th>\n",
       "      <th>HasCrCard</th>\n",
       "      <th>IsActiveMember</th>\n",
       "      <th>EstimatedSalary</th>\n",
       "      <th>Exited</th>\n",
       "      <th>Gender</th>\n",
       "    </tr>\n",
       "  </thead>\n",
       "  <tbody>\n",
       "    <tr>\n",
       "      <th>0</th>\n",
       "      <td>1</td>\n",
       "      <td>15634602</td>\n",
       "      <td>Hargrave</td>\n",
       "      <td>619</td>\n",
       "      <td>France</td>\n",
       "      <td>42</td>\n",
       "      <td>2.0</td>\n",
       "      <td>0.00</td>\n",
       "      <td>1</td>\n",
       "      <td>1</td>\n",
       "      <td>1</td>\n",
       "      <td>101348.88</td>\n",
       "      <td>1</td>\n",
       "      <td>0</td>\n",
       "    </tr>\n",
       "    <tr>\n",
       "      <th>1</th>\n",
       "      <td>2</td>\n",
       "      <td>15647311</td>\n",
       "      <td>Hill</td>\n",
       "      <td>608</td>\n",
       "      <td>Spain</td>\n",
       "      <td>41</td>\n",
       "      <td>1.0</td>\n",
       "      <td>83807.86</td>\n",
       "      <td>1</td>\n",
       "      <td>0</td>\n",
       "      <td>1</td>\n",
       "      <td>112542.58</td>\n",
       "      <td>0</td>\n",
       "      <td>0</td>\n",
       "    </tr>\n",
       "    <tr>\n",
       "      <th>2</th>\n",
       "      <td>3</td>\n",
       "      <td>15619304</td>\n",
       "      <td>Onio</td>\n",
       "      <td>502</td>\n",
       "      <td>France</td>\n",
       "      <td>42</td>\n",
       "      <td>8.0</td>\n",
       "      <td>159660.80</td>\n",
       "      <td>3</td>\n",
       "      <td>1</td>\n",
       "      <td>0</td>\n",
       "      <td>113931.57</td>\n",
       "      <td>1</td>\n",
       "      <td>0</td>\n",
       "    </tr>\n",
       "    <tr>\n",
       "      <th>3</th>\n",
       "      <td>4</td>\n",
       "      <td>15701354</td>\n",
       "      <td>Boni</td>\n",
       "      <td>699</td>\n",
       "      <td>France</td>\n",
       "      <td>39</td>\n",
       "      <td>1.0</td>\n",
       "      <td>0.00</td>\n",
       "      <td>2</td>\n",
       "      <td>0</td>\n",
       "      <td>0</td>\n",
       "      <td>93826.63</td>\n",
       "      <td>0</td>\n",
       "      <td>0</td>\n",
       "    </tr>\n",
       "    <tr>\n",
       "      <th>4</th>\n",
       "      <td>5</td>\n",
       "      <td>15737888</td>\n",
       "      <td>Mitchell</td>\n",
       "      <td>850</td>\n",
       "      <td>Spain</td>\n",
       "      <td>43</td>\n",
       "      <td>2.0</td>\n",
       "      <td>125510.82</td>\n",
       "      <td>1</td>\n",
       "      <td>1</td>\n",
       "      <td>1</td>\n",
       "      <td>79084.10</td>\n",
       "      <td>0</td>\n",
       "      <td>0</td>\n",
       "    </tr>\n",
       "  </tbody>\n",
       "</table>\n",
       "</div>"
      ],
      "text/plain": [
       "   RowNumber  CustomerId   Surname  CreditScore Geography  Age  Tenure  \\\n",
       "0          1    15634602  Hargrave          619    France   42     2.0   \n",
       "1          2    15647311      Hill          608     Spain   41     1.0   \n",
       "2          3    15619304      Onio          502    France   42     8.0   \n",
       "3          4    15701354      Boni          699    France   39     1.0   \n",
       "4          5    15737888  Mitchell          850     Spain   43     2.0   \n",
       "\n",
       "     Balance  NumOfProducts  HasCrCard  IsActiveMember  EstimatedSalary  \\\n",
       "0       0.00              1          1               1        101348.88   \n",
       "1   83807.86              1          0               1        112542.58   \n",
       "2  159660.80              3          1               0        113931.57   \n",
       "3       0.00              2          0               0         93826.63   \n",
       "4  125510.82              1          1               1         79084.10   \n",
       "\n",
       "   Exited  Gender  \n",
       "0       1       0  \n",
       "1       0       0  \n",
       "2       1       0  \n",
       "3       0       0  \n",
       "4       0       0  "
      ]
     },
     "execution_count": 25,
     "metadata": {},
     "output_type": "execute_result"
    }
   ],
   "source": [
    "data_ohe.head()"
   ]
  },
  {
   "cell_type": "code",
   "execution_count": 26,
   "id": "0667ba74",
   "metadata": {},
   "outputs": [
    {
     "name": "stdout",
     "output_type": "stream",
     "text": [
      "<class 'pandas.core.frame.DataFrame'>\n",
      "Int64Index: 9091 entries, 0 to 9998\n",
      "Data columns (total 14 columns):\n",
      " #   Column           Non-Null Count  Dtype  \n",
      "---  ------           --------------  -----  \n",
      " 0   RowNumber        9091 non-null   int64  \n",
      " 1   CustomerId       9091 non-null   int64  \n",
      " 2   Surname          9091 non-null   object \n",
      " 3   CreditScore      9091 non-null   int64  \n",
      " 4   Geography        9091 non-null   object \n",
      " 5   Age              9091 non-null   int64  \n",
      " 6   Tenure           9091 non-null   float64\n",
      " 7   Balance          9091 non-null   float64\n",
      " 8   NumOfProducts    9091 non-null   int64  \n",
      " 9   HasCrCard        9091 non-null   int64  \n",
      " 10  IsActiveMember   9091 non-null   int64  \n",
      " 11  EstimatedSalary  9091 non-null   float64\n",
      " 12  Exited           9091 non-null   int64  \n",
      " 13  Gender           9091 non-null   uint8  \n",
      "dtypes: float64(3), int64(8), object(2), uint8(1)\n",
      "memory usage: 1003.2+ KB\n"
     ]
    }
   ],
   "source": [
    "data_ohe.info()"
   ]
  },
  {
   "cell_type": "code",
   "execution_count": 27,
   "id": "6489c91b",
   "metadata": {},
   "outputs": [
    {
     "name": "stdout",
     "output_type": "stream",
     "text": [
      "   France  Germany  Spain\n",
      "0       1        0      0\n",
      "1       0        0      1\n",
      "2       1        0      0\n",
      "3       1        0      0\n",
      "4       0        0      1\n"
     ]
    }
   ],
   "source": [
    "#get dummies only for Gender because it is a binary feature, Fenmale=0, male =1\n",
    "Geography = pd.get_dummies(data_.Geography)\n",
    "print(Geography.head(5))"
   ]
  },
  {
   "cell_type": "code",
   "execution_count": 28,
   "id": "5be8a307",
   "metadata": {},
   "outputs": [
    {
     "data": {
      "text/html": [
       "<div>\n",
       "<style scoped>\n",
       "    .dataframe tbody tr th:only-of-type {\n",
       "        vertical-align: middle;\n",
       "    }\n",
       "\n",
       "    .dataframe tbody tr th {\n",
       "        vertical-align: top;\n",
       "    }\n",
       "\n",
       "    .dataframe thead th {\n",
       "        text-align: right;\n",
       "    }\n",
       "</style>\n",
       "<table border=\"1\" class=\"dataframe\">\n",
       "  <thead>\n",
       "    <tr style=\"text-align: right;\">\n",
       "      <th></th>\n",
       "      <th>RowNumber</th>\n",
       "      <th>CustomerId</th>\n",
       "      <th>Surname</th>\n",
       "      <th>CreditScore</th>\n",
       "      <th>Geography</th>\n",
       "      <th>Age</th>\n",
       "      <th>Tenure</th>\n",
       "      <th>Balance</th>\n",
       "      <th>NumOfProducts</th>\n",
       "      <th>HasCrCard</th>\n",
       "      <th>IsActiveMember</th>\n",
       "      <th>EstimatedSalary</th>\n",
       "      <th>Exited</th>\n",
       "      <th>Gender</th>\n",
       "    </tr>\n",
       "  </thead>\n",
       "  <tbody>\n",
       "    <tr>\n",
       "      <th>0</th>\n",
       "      <td>1</td>\n",
       "      <td>15634602</td>\n",
       "      <td>Hargrave</td>\n",
       "      <td>619</td>\n",
       "      <td>France</td>\n",
       "      <td>42</td>\n",
       "      <td>2.0</td>\n",
       "      <td>0.00</td>\n",
       "      <td>1</td>\n",
       "      <td>1</td>\n",
       "      <td>1</td>\n",
       "      <td>101348.88</td>\n",
       "      <td>1</td>\n",
       "      <td>0</td>\n",
       "    </tr>\n",
       "    <tr>\n",
       "      <th>1</th>\n",
       "      <td>2</td>\n",
       "      <td>15647311</td>\n",
       "      <td>Hill</td>\n",
       "      <td>608</td>\n",
       "      <td>Spain</td>\n",
       "      <td>41</td>\n",
       "      <td>1.0</td>\n",
       "      <td>83807.86</td>\n",
       "      <td>1</td>\n",
       "      <td>0</td>\n",
       "      <td>1</td>\n",
       "      <td>112542.58</td>\n",
       "      <td>0</td>\n",
       "      <td>0</td>\n",
       "    </tr>\n",
       "    <tr>\n",
       "      <th>2</th>\n",
       "      <td>3</td>\n",
       "      <td>15619304</td>\n",
       "      <td>Onio</td>\n",
       "      <td>502</td>\n",
       "      <td>France</td>\n",
       "      <td>42</td>\n",
       "      <td>8.0</td>\n",
       "      <td>159660.80</td>\n",
       "      <td>3</td>\n",
       "      <td>1</td>\n",
       "      <td>0</td>\n",
       "      <td>113931.57</td>\n",
       "      <td>1</td>\n",
       "      <td>0</td>\n",
       "    </tr>\n",
       "    <tr>\n",
       "      <th>3</th>\n",
       "      <td>4</td>\n",
       "      <td>15701354</td>\n",
       "      <td>Boni</td>\n",
       "      <td>699</td>\n",
       "      <td>France</td>\n",
       "      <td>39</td>\n",
       "      <td>1.0</td>\n",
       "      <td>0.00</td>\n",
       "      <td>2</td>\n",
       "      <td>0</td>\n",
       "      <td>0</td>\n",
       "      <td>93826.63</td>\n",
       "      <td>0</td>\n",
       "      <td>0</td>\n",
       "    </tr>\n",
       "    <tr>\n",
       "      <th>4</th>\n",
       "      <td>5</td>\n",
       "      <td>15737888</td>\n",
       "      <td>Mitchell</td>\n",
       "      <td>850</td>\n",
       "      <td>Spain</td>\n",
       "      <td>43</td>\n",
       "      <td>2.0</td>\n",
       "      <td>125510.82</td>\n",
       "      <td>1</td>\n",
       "      <td>1</td>\n",
       "      <td>1</td>\n",
       "      <td>79084.10</td>\n",
       "      <td>0</td>\n",
       "      <td>0</td>\n",
       "    </tr>\n",
       "  </tbody>\n",
       "</table>\n",
       "</div>"
      ],
      "text/plain": [
       "   RowNumber  CustomerId   Surname  CreditScore Geography  Age  Tenure  \\\n",
       "0          1    15634602  Hargrave          619    France   42     2.0   \n",
       "1          2    15647311      Hill          608     Spain   41     1.0   \n",
       "2          3    15619304      Onio          502    France   42     8.0   \n",
       "3          4    15701354      Boni          699    France   39     1.0   \n",
       "4          5    15737888  Mitchell          850     Spain   43     2.0   \n",
       "\n",
       "     Balance  NumOfProducts  HasCrCard  IsActiveMember  EstimatedSalary  \\\n",
       "0       0.00              1          1               1        101348.88   \n",
       "1   83807.86              1          0               1        112542.58   \n",
       "2  159660.80              3          1               0        113931.57   \n",
       "3       0.00              2          0               0         93826.63   \n",
       "4  125510.82              1          1               1         79084.10   \n",
       "\n",
       "   Exited  Gender  \n",
       "0       1       0  \n",
       "1       0       0  \n",
       "2       1       0  \n",
       "3       0       0  \n",
       "4       0       0  "
      ]
     },
     "execution_count": 28,
     "metadata": {},
     "output_type": "execute_result"
    }
   ],
   "source": [
    "data_ohe_2 = data_ohe.drop('Geography', axis=1)\n",
    "data_ohe.head()"
   ]
  },
  {
   "cell_type": "code",
   "execution_count": 29,
   "id": "c48ae1bc",
   "metadata": {},
   "outputs": [
    {
     "data": {
      "text/html": [
       "<div>\n",
       "<style scoped>\n",
       "    .dataframe tbody tr th:only-of-type {\n",
       "        vertical-align: middle;\n",
       "    }\n",
       "\n",
       "    .dataframe tbody tr th {\n",
       "        vertical-align: top;\n",
       "    }\n",
       "\n",
       "    .dataframe thead th {\n",
       "        text-align: right;\n",
       "    }\n",
       "</style>\n",
       "<table border=\"1\" class=\"dataframe\">\n",
       "  <thead>\n",
       "    <tr style=\"text-align: right;\">\n",
       "      <th></th>\n",
       "      <th>France</th>\n",
       "      <th>Germany</th>\n",
       "      <th>Spain</th>\n",
       "    </tr>\n",
       "  </thead>\n",
       "  <tbody>\n",
       "    <tr>\n",
       "      <th>0</th>\n",
       "      <td>1</td>\n",
       "      <td>0</td>\n",
       "      <td>0</td>\n",
       "    </tr>\n",
       "    <tr>\n",
       "      <th>1</th>\n",
       "      <td>0</td>\n",
       "      <td>0</td>\n",
       "      <td>1</td>\n",
       "    </tr>\n",
       "    <tr>\n",
       "      <th>2</th>\n",
       "      <td>1</td>\n",
       "      <td>0</td>\n",
       "      <td>0</td>\n",
       "    </tr>\n",
       "    <tr>\n",
       "      <th>3</th>\n",
       "      <td>1</td>\n",
       "      <td>0</td>\n",
       "      <td>0</td>\n",
       "    </tr>\n",
       "    <tr>\n",
       "      <th>4</th>\n",
       "      <td>0</td>\n",
       "      <td>0</td>\n",
       "      <td>1</td>\n",
       "    </tr>\n",
       "    <tr>\n",
       "      <th>...</th>\n",
       "      <td>...</td>\n",
       "      <td>...</td>\n",
       "      <td>...</td>\n",
       "    </tr>\n",
       "    <tr>\n",
       "      <th>9994</th>\n",
       "      <td>1</td>\n",
       "      <td>0</td>\n",
       "      <td>0</td>\n",
       "    </tr>\n",
       "    <tr>\n",
       "      <th>9995</th>\n",
       "      <td>1</td>\n",
       "      <td>0</td>\n",
       "      <td>0</td>\n",
       "    </tr>\n",
       "    <tr>\n",
       "      <th>9996</th>\n",
       "      <td>1</td>\n",
       "      <td>0</td>\n",
       "      <td>0</td>\n",
       "    </tr>\n",
       "    <tr>\n",
       "      <th>9997</th>\n",
       "      <td>1</td>\n",
       "      <td>0</td>\n",
       "      <td>0</td>\n",
       "    </tr>\n",
       "    <tr>\n",
       "      <th>9998</th>\n",
       "      <td>0</td>\n",
       "      <td>1</td>\n",
       "      <td>0</td>\n",
       "    </tr>\n",
       "  </tbody>\n",
       "</table>\n",
       "<p>9091 rows × 3 columns</p>\n",
       "</div>"
      ],
      "text/plain": [
       "      France  Germany  Spain\n",
       "0          1        0      0\n",
       "1          0        0      1\n",
       "2          1        0      0\n",
       "3          1        0      0\n",
       "4          0        0      1\n",
       "...      ...      ...    ...\n",
       "9994       1        0      0\n",
       "9995       1        0      0\n",
       "9996       1        0      0\n",
       "9997       1        0      0\n",
       "9998       0        1      0\n",
       "\n",
       "[9091 rows x 3 columns]"
      ]
     },
     "execution_count": 29,
     "metadata": {},
     "output_type": "execute_result"
    }
   ],
   "source": [
    "Geography"
   ]
  },
  {
   "cell_type": "code",
   "execution_count": 30,
   "id": "19c68d1c",
   "metadata": {},
   "outputs": [],
   "source": [
    "data_ohe_2['France'] = Geography['France']\n",
    "data_ohe_2['Germany'] = Geography['Germany']\n",
    "data_ohe_2['Spain'] = Geography['Spain']"
   ]
  },
  {
   "cell_type": "code",
   "execution_count": 31,
   "id": "352b6a31",
   "metadata": {},
   "outputs": [
    {
     "data": {
      "text/html": [
       "<div>\n",
       "<style scoped>\n",
       "    .dataframe tbody tr th:only-of-type {\n",
       "        vertical-align: middle;\n",
       "    }\n",
       "\n",
       "    .dataframe tbody tr th {\n",
       "        vertical-align: top;\n",
       "    }\n",
       "\n",
       "    .dataframe thead th {\n",
       "        text-align: right;\n",
       "    }\n",
       "</style>\n",
       "<table border=\"1\" class=\"dataframe\">\n",
       "  <thead>\n",
       "    <tr style=\"text-align: right;\">\n",
       "      <th></th>\n",
       "      <th>RowNumber</th>\n",
       "      <th>CustomerId</th>\n",
       "      <th>Surname</th>\n",
       "      <th>CreditScore</th>\n",
       "      <th>Age</th>\n",
       "      <th>Tenure</th>\n",
       "      <th>Balance</th>\n",
       "      <th>NumOfProducts</th>\n",
       "      <th>HasCrCard</th>\n",
       "      <th>IsActiveMember</th>\n",
       "      <th>EstimatedSalary</th>\n",
       "      <th>Exited</th>\n",
       "      <th>Gender</th>\n",
       "      <th>France</th>\n",
       "      <th>Germany</th>\n",
       "      <th>Spain</th>\n",
       "    </tr>\n",
       "  </thead>\n",
       "  <tbody>\n",
       "    <tr>\n",
       "      <th>0</th>\n",
       "      <td>1</td>\n",
       "      <td>15634602</td>\n",
       "      <td>Hargrave</td>\n",
       "      <td>619</td>\n",
       "      <td>42</td>\n",
       "      <td>2.0</td>\n",
       "      <td>0.00</td>\n",
       "      <td>1</td>\n",
       "      <td>1</td>\n",
       "      <td>1</td>\n",
       "      <td>101348.88</td>\n",
       "      <td>1</td>\n",
       "      <td>0</td>\n",
       "      <td>1</td>\n",
       "      <td>0</td>\n",
       "      <td>0</td>\n",
       "    </tr>\n",
       "    <tr>\n",
       "      <th>1</th>\n",
       "      <td>2</td>\n",
       "      <td>15647311</td>\n",
       "      <td>Hill</td>\n",
       "      <td>608</td>\n",
       "      <td>41</td>\n",
       "      <td>1.0</td>\n",
       "      <td>83807.86</td>\n",
       "      <td>1</td>\n",
       "      <td>0</td>\n",
       "      <td>1</td>\n",
       "      <td>112542.58</td>\n",
       "      <td>0</td>\n",
       "      <td>0</td>\n",
       "      <td>0</td>\n",
       "      <td>0</td>\n",
       "      <td>1</td>\n",
       "    </tr>\n",
       "    <tr>\n",
       "      <th>2</th>\n",
       "      <td>3</td>\n",
       "      <td>15619304</td>\n",
       "      <td>Onio</td>\n",
       "      <td>502</td>\n",
       "      <td>42</td>\n",
       "      <td>8.0</td>\n",
       "      <td>159660.80</td>\n",
       "      <td>3</td>\n",
       "      <td>1</td>\n",
       "      <td>0</td>\n",
       "      <td>113931.57</td>\n",
       "      <td>1</td>\n",
       "      <td>0</td>\n",
       "      <td>1</td>\n",
       "      <td>0</td>\n",
       "      <td>0</td>\n",
       "    </tr>\n",
       "    <tr>\n",
       "      <th>3</th>\n",
       "      <td>4</td>\n",
       "      <td>15701354</td>\n",
       "      <td>Boni</td>\n",
       "      <td>699</td>\n",
       "      <td>39</td>\n",
       "      <td>1.0</td>\n",
       "      <td>0.00</td>\n",
       "      <td>2</td>\n",
       "      <td>0</td>\n",
       "      <td>0</td>\n",
       "      <td>93826.63</td>\n",
       "      <td>0</td>\n",
       "      <td>0</td>\n",
       "      <td>1</td>\n",
       "      <td>0</td>\n",
       "      <td>0</td>\n",
       "    </tr>\n",
       "    <tr>\n",
       "      <th>4</th>\n",
       "      <td>5</td>\n",
       "      <td>15737888</td>\n",
       "      <td>Mitchell</td>\n",
       "      <td>850</td>\n",
       "      <td>43</td>\n",
       "      <td>2.0</td>\n",
       "      <td>125510.82</td>\n",
       "      <td>1</td>\n",
       "      <td>1</td>\n",
       "      <td>1</td>\n",
       "      <td>79084.10</td>\n",
       "      <td>0</td>\n",
       "      <td>0</td>\n",
       "      <td>0</td>\n",
       "      <td>0</td>\n",
       "      <td>1</td>\n",
       "    </tr>\n",
       "  </tbody>\n",
       "</table>\n",
       "</div>"
      ],
      "text/plain": [
       "   RowNumber  CustomerId   Surname  CreditScore  Age  Tenure    Balance  \\\n",
       "0          1    15634602  Hargrave          619   42     2.0       0.00   \n",
       "1          2    15647311      Hill          608   41     1.0   83807.86   \n",
       "2          3    15619304      Onio          502   42     8.0  159660.80   \n",
       "3          4    15701354      Boni          699   39     1.0       0.00   \n",
       "4          5    15737888  Mitchell          850   43     2.0  125510.82   \n",
       "\n",
       "   NumOfProducts  HasCrCard  IsActiveMember  EstimatedSalary  Exited  Gender  \\\n",
       "0              1          1               1        101348.88       1       0   \n",
       "1              1          0               1        112542.58       0       0   \n",
       "2              3          1               0        113931.57       1       0   \n",
       "3              2          0               0         93826.63       0       0   \n",
       "4              1          1               1         79084.10       0       0   \n",
       "\n",
       "   France  Germany  Spain  \n",
       "0       1        0      0  \n",
       "1       0        0      1  \n",
       "2       1        0      0  \n",
       "3       1        0      0  \n",
       "4       0        0      1  "
      ]
     },
     "execution_count": 31,
     "metadata": {},
     "output_type": "execute_result"
    }
   ],
   "source": [
    "data_ohe_2.head()"
   ]
  },
  {
   "cell_type": "code",
   "execution_count": 32,
   "id": "d62d15e5",
   "metadata": {
    "scrolled": true
   },
   "outputs": [
    {
     "name": "stdout",
     "output_type": "stream",
     "text": [
      "<class 'pandas.core.frame.DataFrame'>\n",
      "Int64Index: 9091 entries, 0 to 9998\n",
      "Data columns (total 13 columns):\n",
      " #   Column           Non-Null Count  Dtype  \n",
      "---  ------           --------------  -----  \n",
      " 0   CreditScore      9091 non-null   int64  \n",
      " 1   Age              9091 non-null   int64  \n",
      " 2   Tenure           9091 non-null   float64\n",
      " 3   Balance          9091 non-null   float64\n",
      " 4   NumOfProducts    9091 non-null   int64  \n",
      " 5   HasCrCard        9091 non-null   int64  \n",
      " 6   IsActiveMember   9091 non-null   int64  \n",
      " 7   EstimatedSalary  9091 non-null   float64\n",
      " 8   Exited           9091 non-null   int64  \n",
      " 9   Gender           9091 non-null   uint8  \n",
      " 10  France           9091 non-null   uint8  \n",
      " 11  Germany          9091 non-null   uint8  \n",
      " 12  Spain            9091 non-null   uint8  \n",
      "dtypes: float64(3), int64(6), uint8(4)\n",
      "memory usage: 745.7 KB\n"
     ]
    }
   ],
   "source": [
    "#RowNumber,Surname,CustomerId features do not contribute to the model\n",
    "df = data_ohe_2.drop(['RowNumber','Surname','CustomerId'],axis=1)\n",
    "df.info()"
   ]
  },
  {
   "cell_type": "markdown",
   "id": "7659aebb",
   "metadata": {},
   "source": [
    "## EDA  <a class=\"anchor\" id=\"EDA\"></a>"
   ]
  },
  {
   "cell_type": "code",
   "execution_count": 33,
   "id": "588272a7",
   "metadata": {},
   "outputs": [
    {
     "data": {
      "image/png": "[encoded data removed]",
      "text/plain": [
       "<Figure size 1080x1080 with 16 Axes>"
      ]
     },
     "metadata": {
      "needs_background": "light"
     },
     "output_type": "display_data"
    }
   ],
   "source": [
    "df.hist(edgecolor='black', linewidth=1.2, figsize=(15,15));"
   ]
  },
  {
   "cell_type": "code",
   "execution_count": 34,
   "id": "7c268321",
   "metadata": {},
   "outputs": [
    {
     "data": {
      "image/png": "[encoded data removed]",
      "text/plain": [
       "<Figure size 1080x360 with 2 Axes>"
      ]
     },
     "metadata": {
      "needs_background": "light"
     },
     "output_type": "display_data"
    }
   ],
   "source": [
    "plt.figure(figsize=(15,5))\n",
    "ax = sns.heatmap(df.corr(), annot=True, cmap='rocket')\n",
    "\n",
    "bottom, top = ax.get_ylim()\n",
    "ax.set_ylim(bottom + 0.5, top - 0.5);\n",
    "plt.yticks(rotation=0);\n",
    "plt.title('Features Heatmap')\n",
    "plt.show()"
   ]
  },
  {
   "cell_type": "markdown",
   "id": "03c83336",
   "metadata": {},
   "source": [
    "<div style=\"border:solid black 2px; padding: 20px\"> <b>Note:</b><br>\n",
    "seems like ''Age'' feature and ''Exited''  are correlated, with the highest correlation, but it is a weak positive correlation. After that, the balance correlates with ''Exited'', but it is a weak positive correlation. all other features have no too weak positive or negative correlation."
   ]
  },
  {
   "cell_type": "code",
   "execution_count": 35,
   "id": "2a842883",
   "metadata": {},
   "outputs": [
    {
     "data": {
      "image/png": "[encoded data removed]",
      "text/plain": [
       "<Figure size 1080x360 with 1 Axes>"
      ]
     },
     "metadata": {
      "needs_background": "light"
     },
     "output_type": "display_data"
    }
   ],
   "source": [
    "fig = plt.figure(figsize=(15,5))\n",
    "ax = plt.axes()\n",
    "plt.title('Age vs Exited')\n",
    "sns.barplot(data=df, x=\"Age\", y=\"Exited\")\n",
    "plt.show()"
   ]
  },
  {
   "cell_type": "markdown",
   "id": "f654db54",
   "metadata": {},
   "source": [
    "<div style=\"border:solid black 2px; padding: 20px\"> <b>Note:</b><br>\n",
    "\n",
    "Life expectancy:\n",
    "\n",
    "France 82.58\n",
    "\n",
    "Spain 83.49\n",
    "\n",
    "Germany 80.94 \n",
    "\n",
    "It might be that Age = 84 has high vaule for Exited due to Life expectancy"
   ]
  },
  {
   "cell_type": "code",
   "execution_count": 36,
   "id": "ee54a63a",
   "metadata": {},
   "outputs": [],
   "source": [
    "#droping data where is age is 84 and higher\n",
    "df1= df.query('Age <84')"
   ]
  },
  {
   "cell_type": "code",
   "execution_count": 37,
   "id": "0099c48b",
   "metadata": {},
   "outputs": [
    {
     "name": "stdout",
     "output_type": "stream",
     "text": [
      "<class 'pandas.core.frame.DataFrame'>\n",
      "Int64Index: 9086 entries, 0 to 9998\n",
      "Data columns (total 13 columns):\n",
      " #   Column           Non-Null Count  Dtype  \n",
      "---  ------           --------------  -----  \n",
      " 0   CreditScore      9086 non-null   int64  \n",
      " 1   Age              9086 non-null   int64  \n",
      " 2   Tenure           9086 non-null   float64\n",
      " 3   Balance          9086 non-null   float64\n",
      " 4   NumOfProducts    9086 non-null   int64  \n",
      " 5   HasCrCard        9086 non-null   int64  \n",
      " 6   IsActiveMember   9086 non-null   int64  \n",
      " 7   EstimatedSalary  9086 non-null   float64\n",
      " 8   Exited           9086 non-null   int64  \n",
      " 9   Gender           9086 non-null   uint8  \n",
      " 10  France           9086 non-null   uint8  \n",
      " 11  Germany          9086 non-null   uint8  \n",
      " 12  Spain            9086 non-null   uint8  \n",
      "dtypes: float64(3), int64(6), uint8(4)\n",
      "memory usage: 745.3 KB\n"
     ]
    }
   ],
   "source": [
    "df1.info()"
   ]
  },
  {
   "cell_type": "code",
   "execution_count": 38,
   "id": "85dd58bf",
   "metadata": {},
   "outputs": [
    {
     "data": {
      "text/plain": [
       "(9086, 13)"
      ]
     },
     "execution_count": 38,
     "metadata": {},
     "output_type": "execute_result"
    }
   ],
   "source": [
    "df1.shape"
   ]
  },
  {
   "cell_type": "markdown",
   "id": "9f4395fe",
   "metadata": {},
   "source": [
    "### Split the data into two sets <a class=\"anchor\" id=\"split\"></a>"
   ]
  },
  {
   "cell_type": "markdown",
   "id": "02a0d5fd",
   "metadata": {},
   "source": [
    "<div style=\"border:solid black 2px; padding: 20px\"><br>\n",
    "Test set doesn't exist. In that case, the source data has to be split into three parts: training, validation, and test. The sizes of validation set and test set are usually equal. It gives us source data split in a 3:1:1 ratio."
   ]
  },
  {
   "cell_type": "code",
   "execution_count": 39,
   "id": "7e4f3bf7",
   "metadata": {},
   "outputs": [],
   "source": [
    "df_train, df_test = train_test_split(df1, test_size=0.20, random_state=12345)\n",
    "df_train_2, df_valid = train_test_split(df_train, test_size=0.25, random_state=12345)"
   ]
  },
  {
   "cell_type": "code",
   "execution_count": 40,
   "id": "cf5d95b9",
   "metadata": {},
   "outputs": [],
   "source": [
    "features_train = df_train_2.drop('Exited',axis=1)\n",
    "features_valid = df_valid.drop('Exited',axis=1)\n",
    "features_test = df_test.drop('Exited',axis=1)\n"
   ]
  },
  {
   "cell_type": "code",
   "execution_count": 41,
   "id": "af5cb0a7",
   "metadata": {},
   "outputs": [
    {
     "name": "stdout",
     "output_type": "stream",
     "text": [
      "features_train: (5451, 12)\n",
      "features_valid: (1817, 12)\n",
      "features_test: (1818, 12)\n"
     ]
    }
   ],
   "source": [
    "print(\"features_train:\",features_train.shape)\n",
    "print(\"features_valid:\",features_valid.shape)\n",
    "print(\"features_test:\",features_test.shape)"
   ]
  },
  {
   "cell_type": "code",
   "execution_count": 42,
   "id": "fd8111ae",
   "metadata": {},
   "outputs": [],
   "source": [
    "target_train = df_train_2['Exited']\n",
    "target_valid = df_valid['Exited']\n",
    "target_test = df_test['Exited']"
   ]
  },
  {
   "cell_type": "markdown",
   "id": "177bc4d2",
   "metadata": {},
   "source": [
    "### Feature Scaling <a class=\"anchor\" id=\"Scaling\"></a>"
   ]
  },
  {
   "cell_type": "markdown",
   "id": "07006c88",
   "metadata": {},
   "source": [
    "<div style=\"border:solid black 2px; padding: 20px\"><br>\n",
    "The features have different scale, therefor they nee dto be standardize"
   ]
  },
  {
   "cell_type": "code",
   "execution_count": 43,
   "id": "bdd0fe7f",
   "metadata": {},
   "outputs": [],
   "source": [
    "#using the StandardScaler method from sklearn\n",
    "scaler = StandardScaler()"
   ]
  },
  {
   "cell_type": "code",
   "execution_count": 44,
   "id": "fc4e10a1",
   "metadata": {},
   "outputs": [
    {
     "data": {
      "text/plain": [
       "StandardScaler()"
      ]
     },
     "execution_count": 44,
     "metadata": {},
     "output_type": "execute_result"
    }
   ],
   "source": [
    "scaler.fit(features_train) "
   ]
  },
  {
   "cell_type": "code",
   "execution_count": 45,
   "id": "45a59c90",
   "metadata": {},
   "outputs": [],
   "source": [
    "features_train_scaled = scaler.transform(features_train)\n",
    "features_valid_scaled = scaler.transform(features_valid) \n",
    "features_test_scaled = scaler.transform(features_test)"
   ]
  },
  {
   "cell_type": "code",
   "execution_count": 46,
   "id": "bacaae03",
   "metadata": {},
   "outputs": [
    {
     "name": "stdout",
     "output_type": "stream",
     "text": [
      "features_train scaled: (5451, 12)\n",
      "features_valid scaled: (1817, 12)\n",
      "features_test scaled: (1818, 12)\n"
     ]
    }
   ],
   "source": [
    "print(\"features_train scaled:\",features_train_scaled.shape)\n",
    "print(\"features_valid scaled:\",features_valid_scaled.shape)\n",
    "print(\"features_test scaled:\",features_test_scaled.shape)"
   ]
  },
  {
   "cell_type": "code",
   "execution_count": 47,
   "id": "24a4d66b",
   "metadata": {},
   "outputs": [],
   "source": [
    "target_train_array = np.array(target_train)\n",
    "target_valid_array = np.array(target_valid)\n",
    "target_test_array = np.array(target_test)"
   ]
  },
  {
   "cell_type": "code",
   "execution_count": 48,
   "id": "bdb8dd16",
   "metadata": {},
   "outputs": [
    {
     "name": "stdout",
     "output_type": "stream",
     "text": [
      "target_train_array: (5451,)\n",
      "target_valid_array: (1817,)\n",
      "target_test_array: (1818,)\n"
     ]
    }
   ],
   "source": [
    "print(\"target_train_array:\",target_train_array.shape)\n",
    "print(\"target_valid_array:\",target_valid_array.shape)\n",
    "print(\"target_test_array:\",target_test_array.shape)"
   ]
  },
  {
   "cell_type": "markdown",
   "id": "7033d9fb",
   "metadata": {},
   "source": [
    "## Examine the balance of classes. Train the model without taking into account the imbalance <a class=\"anchor\" id=\"Train_no_balance\"></a>"
   ]
  },
  {
   "cell_type": "code",
   "execution_count": 49,
   "id": "28234895",
   "metadata": {},
   "outputs": [
    {
     "name": "stdout",
     "output_type": "stream",
     "text": [
      "max_depth = 1 : 0.0\n",
      "max_depth = 2 : 0.49087893864013266\n",
      "max_depth = 3 : 0.5123966942148761\n",
      "max_depth = 4 : 0.5026929982046678\n",
      "max_depth = 5 : 0.5202108963093145\n",
      "max_depth = 6 : 0.4999999999999999\n",
      "max_depth = 7 : 0.5577812018489985\n",
      "max_depth = 8 : 0.5111821086261982\n",
      "max_depth = 9 : 0.5175718849840255\n"
     ]
    }
   ],
   "source": [
    "for i in range(1,10):\n",
    "    #set DecisionTreeClassifier paremeters\n",
    "    model = DecisionTreeClassifier(random_state=12345,max_depth=i)\n",
    "    # < train the model with training data set>\n",
    "    model.fit(features_train_scaled, target_train_array)\n",
    "    #validation of the data\n",
    "    predictions_valid = model.predict(features_valid_scaled)\n",
    "    print(\"max_depth =\", i, \": \", end='')\n",
    "    print(f1_score(target_valid_array, predictions_valid)) "
   ]
  },
  {
   "cell_type": "code",
   "execution_count": 50,
   "id": "594650e2",
   "metadata": {},
   "outputs": [
    {
     "name": "stdout",
     "output_type": "stream",
     "text": [
      "depth: 1 , 0.0\n",
      "depth: 2 , 0.07915567282321899\n",
      "depth: 3 , 0.264775413711584\n",
      "depth: 4 , 0.32888888888888895\n",
      "depth: 5 , 0.41407867494824024\n",
      "depth: 6 , 0.4642166344294003\n",
      "depth: 7 , 0.49624060150375937\n",
      "depth: 8 , 0.5147058823529412\n",
      "depth: 9 , 0.5263157894736842\n",
      "depth: 10 , 0.5302491103202848\n",
      "depth: 11 , 0.5396825396825398\n",
      "depth: 12 , 0.5473684210526316\n",
      "depth: 13 , 0.5616438356164384\n",
      "depth: 14 , 0.5401709401709403\n",
      "depth: 15 , 0.559463986599665\n",
      "depth: 16 , 0.5709515859766277\n",
      "depth: 17 , 0.5448275862068965\n",
      "depth: 18 , 0.5414551607445008\n",
      "depth: 19 , 0.5534804753820034\n"
     ]
    }
   ],
   "source": [
    "for depth in range(1, 20, 1):\n",
    "    model = RandomForestClassifier(random_state=12345, n_estimators=50,max_depth=depth)\n",
    "    # < train the model with training data set>\n",
    "    model.fit(features_train_scaled, target_train_array)\n",
    "    predictions_valid = model.predict(features_valid_scaled)\n",
    "    #validation of the data\n",
    "    print('depth:',depth,',',f1_score(target_valid_array, predictions_valid)) "
   ]
  },
  {
   "cell_type": "code",
   "execution_count": 51,
   "id": "e5c09397",
   "metadata": {},
   "outputs": [
    {
     "name": "stdout",
     "output_type": "stream",
     "text": [
      "n_estimators: 10 , 0.5138888888888888\n",
      "n_estimators: 20 , 0.5523156089193825\n",
      "n_estimators: 30 , 0.5275862068965518\n",
      "n_estimators: 40 , 0.559322033898305\n",
      "n_estimators: 50 , 0.5414551607445008\n",
      "n_estimators: 60 , 0.5551839464882943\n",
      "n_estimators: 70 , 0.5524126455906821\n",
      "n_estimators: 80 , 0.5661641541038526\n",
      "n_estimators: 90 , 0.5540540540540542\n"
     ]
    }
   ],
   "source": [
    "for i in range(10, 100, 10):\n",
    "    model = RandomForestClassifier(random_state=12345, n_estimators=i,max_depth=18)\n",
    "    # < train the model with training data set>\n",
    "    model.fit(features_train_scaled, target_train_array)\n",
    "    predictions_valid = model.predict(features_valid_scaled)\n",
    "    #validation of the data\n",
    "    print('n_estimators:',i,',',f1_score(target_valid_array, predictions_valid)) "
   ]
  },
  {
   "cell_type": "code",
   "execution_count": 52,
   "id": "adef9718",
   "metadata": {},
   "outputs": [
    {
     "name": "stdout",
     "output_type": "stream",
     "text": [
      "n_estimators: 90 , 0.5540540540540542\n",
      "n_estimators: 100 , 0.5494880546075085\n",
      "n_estimators: 110 , 0.5460750853242321\n",
      "n_estimators: 120 , 0.5602716468590832\n",
      "n_estimators: 130 , 0.5675213675213675\n",
      "n_estimators: 140 , 0.5680272108843537\n",
      "n_estimators: 150 , 0.5621805792163543\n",
      "n_estimators: 160 , 0.559726962457338\n",
      "n_estimators: 170 , 0.5684931506849314\n",
      "n_estimators: 180 , 0.565587734241908\n",
      "n_estimators: 190 , 0.5694915254237288\n"
     ]
    }
   ],
   "source": [
    "for i in range(90, 200, 10):\n",
    "    model = RandomForestClassifier(random_state=12345, n_estimators=i,max_depth=18)\n",
    "    # < train the model with training data set>\n",
    "    model.fit(features_train_scaled, target_train_array)\n",
    "    predictions_valid = model.predict(features_valid_scaled)\n",
    "    #validation of the data\n",
    "    print('n_estimators:',i,',',f1_score(target_valid_array, predictions_valid)) "
   ]
  },
  {
   "cell_type": "code",
   "execution_count": 53,
   "id": "111368af",
   "metadata": {},
   "outputs": [
    {
     "name": "stdout",
     "output_type": "stream",
     "text": [
      "depth: 18 , 0.5694915254237288\n",
      "depth: 19 , 0.5568760611205433\n",
      "depth: 20 , 0.5521885521885521\n",
      "depth: 21 , 0.5587734241908007\n",
      "depth: 22 , 0.5612244897959183\n",
      "depth: 23 , 0.5675675675675675\n",
      "depth: 24 , 0.565587734241908\n",
      "depth: 25 , 0.5661016949152542\n",
      "depth: 26 , 0.5661016949152542\n",
      "depth: 27 , 0.5685279187817259\n",
      "depth: 28 , 0.5656565656565657\n",
      "depth: 29 , 0.5656565656565657\n"
     ]
    }
   ],
   "source": [
    "for depth in range(18, 30, 1):\n",
    "    model = RandomForestClassifier(random_state=12345, n_estimators=190,max_depth=depth)\n",
    "    # < train the model with training data set>\n",
    "    model.fit(features_train_scaled, target_train_array)\n",
    "    predictions_valid = model.predict(features_valid_scaled)\n",
    "    #validation of the data\n",
    "    print('depth:',depth,',',f1_score(target_valid_array, predictions_valid)) "
   ]
  },
  {
   "cell_type": "code",
   "execution_count": 54,
   "id": "4e8472db",
   "metadata": {},
   "outputs": [
    {
     "name": "stdout",
     "output_type": "stream",
     "text": [
      "n_estimators: 190 , 0.5656565656565657\n",
      "n_estimators: 200 , 0.5617597292724196\n",
      "n_estimators: 210 , 0.5651438240270727\n",
      "n_estimators: 220 , 0.5757575757575757\n",
      "n_estimators: 230 , 0.5752961082910321\n",
      "n_estimators: 240 , 0.5762144053601341\n",
      "n_estimators: 250 , 0.5762144053601341\n",
      "n_estimators: 260 , 0.574750830564784\n",
      "n_estimators: 270 , 0.5709515859766277\n",
      "n_estimators: 280 , 0.5728643216080401\n",
      "n_estimators: 290 , 0.5762144053601341\n"
     ]
    }
   ],
   "source": [
    "for i in range(190, 300, 10):\n",
    "    model = RandomForestClassifier(random_state=12345, n_estimators=i,max_depth=29)\n",
    "    # < train the model with training data set>\n",
    "    model.fit(features_train_scaled, target_train_array)\n",
    "    predictions_valid = model.predict(features_valid_scaled)\n",
    "    #validation of the data\n",
    "    print('n_estimators:',i,',',f1_score(target_valid_array, predictions_valid)) "
   ]
  },
  {
   "cell_type": "code",
   "execution_count": 55,
   "id": "662c099d",
   "metadata": {},
   "outputs": [
    {
     "name": "stdout",
     "output_type": "stream",
     "text": [
      "n_estimators: 300 , 0.5728643216080401\n",
      "n_estimators: 400 , 0.5747899159663865\n",
      "n_estimators: 500 , 0.5714285714285715\n",
      "n_estimators: 600 , 0.5675675675675675\n",
      "n_estimators: 700 , 0.5651438240270727\n",
      "n_estimators: 800 , 0.5675675675675675\n",
      "n_estimators: 900 , 0.5651438240270727\n"
     ]
    }
   ],
   "source": [
    "for i in range(300, 1000, 100):\n",
    "    model = RandomForestClassifier(random_state=12345, n_estimators=i,max_depth=29)\n",
    "    # < train the model with training data set>\n",
    "    model.fit(features_train_scaled, target_train_array)\n",
    "    predictions_valid = model.predict(features_valid_scaled)\n",
    "    #validation of the data\n",
    "    print('n_estimators:',i,',',f1_score(target_valid_array, predictions_valid)) "
   ]
  },
  {
   "cell_type": "code",
   "execution_count": 56,
   "id": "2e6f1aa5",
   "metadata": {},
   "outputs": [
    {
     "name": "stdout",
     "output_type": "stream",
     "text": [
      "auc_roc score: 0.8476768413967313\n"
     ]
    }
   ],
   "source": [
    "probabilities_valid = model.predict_proba(features_valid_scaled)\n",
    "probabilities_one_valid = probabilities_valid[:, 1]\n",
    "auc_roc= roc_auc_score(target_valid_array, probabilities_one_valid)\n",
    "print('auc_roc score:', auc_roc)"
   ]
  },
  {
   "cell_type": "code",
   "execution_count": 57,
   "id": "0eefbbbe",
   "metadata": {},
   "outputs": [
    {
     "data": {
      "image/png": "[encoded data removed]",
      "text/plain": [
       "<Figure size 432x288 with 1 Axes>"
      ]
     },
     "metadata": {
      "needs_background": "light"
     },
     "output_type": "display_data"
    }
   ],
   "source": [
    "fpr, tpr, thresholds = roc_curve(target_valid_array, probabilities_one_valid)\n",
    "\n",
    "plt.figure()\n",
    "plt.plot(fpr, tpr)\n",
    "# ROC curve for random model (looks like a straight line)\n",
    "plt.plot([0, 1], [0, 1], linestyle='--')\n",
    "\n",
    "# < use the functions plt.xlim() and plt.ylim() to\n",
    "#   set the boundary for the axes from 0 to 1 >\n",
    "plt.xlim([0, 1])\n",
    "plt.ylim([0, 1])\n",
    "# < use the functions plt.xlabel() and plt.ylabel() to\n",
    "#   name the axes \"False Positive Rate\" and \"True Positive Rate\" >\n",
    "plt.xlabel(\"False Positive Rate\")\n",
    "plt.ylabel(\"True Positive Rate\")\n",
    "# < add the heading \"ROC curve\" with the function plt.title() >\n",
    "plt.title(\"ROC curve\")\n",
    "plt.show()"
   ]
  },
  {
   "cell_type": "markdown",
   "id": "f18d6bd5",
   "metadata": {},
   "source": [
    "<div style=\"border:solid black 2px; padding: 20px\"> <b>conclusion for f1 score without addressing the imbalance </b><br>\n",
    "best for RandomForestClassifier: n_estimators = 600 , depth = 29. f1 score =0.576. Without addressing the imbalance, the model can't reach the desired F1 score and stagnate at ~0.55. and it is very slow. The imbalance:There are 4 times less Exites=1 then Exited=0"
   ]
  },
  {
   "cell_type": "markdown",
   "id": "a71c987e",
   "metadata": {},
   "source": [
    "## Improve_the_quality <a class=\"anchor\" id=\"Improve_the_quality\"></a>"
   ]
  },
  {
   "cell_type": "markdown",
   "id": "76c7c1ac",
   "metadata": {},
   "source": [
    "* Make sure you use at least two approaches to fixing class imbalance. \n",
    "* Use the training set to pick the best parameters. \n",
    "* Train different models on training and validation sets. \n",
    "* Find the best one."
   ]
  },
  {
   "cell_type": "code",
   "execution_count": 58,
   "id": "2734ad65",
   "metadata": {},
   "outputs": [
    {
     "name": "stdout",
     "output_type": "stream",
     "text": [
      "n_estimators: 190 , 0.5656565656565657\n",
      "n_estimators: 200 , 0.5617597292724196\n",
      "n_estimators: 210 , 0.5651438240270727\n",
      "n_estimators: 220 , 0.5757575757575757\n",
      "n_estimators: 230 , 0.5752961082910321\n",
      "n_estimators: 240 , 0.5762144053601341\n",
      "n_estimators: 250 , 0.5762144053601341\n",
      "n_estimators: 260 , 0.574750830564784\n",
      "n_estimators: 270 , 0.5709515859766277\n",
      "n_estimators: 280 , 0.5728643216080401\n",
      "n_estimators: 290 , 0.5762144053601341\n"
     ]
    }
   ],
   "source": [
    "for i in range(190, 300, 10):\n",
    "    model = RandomForestClassifier(random_state=12345, n_estimators=i,max_depth=29)\n",
    "    # < train the model with training data set>\n",
    "    model.fit(features_train_scaled, target_train_array)\n",
    "    predictions_valid = model.predict(features_valid_scaled)\n",
    "    #validation of the data\n",
    "    print('n_estimators:',i,',',f1_score(target_valid_array, predictions_valid)) "
   ]
  },
  {
   "cell_type": "code",
   "execution_count": 59,
   "id": "7fa026cf",
   "metadata": {},
   "outputs": [
    {
     "name": "stdout",
     "output_type": "stream",
     "text": [
      "depth: 1 , 0.4814049586776859\n",
      "depth: 2 , 0.5115257958287596\n",
      "depth: 3 , 0.5399325084364454\n",
      "depth: 4 , 0.5378704720087817\n",
      "depth: 5 , 0.5665529010238908\n",
      "depth: 6 , 0.5674418604651162\n",
      "depth: 7 , 0.5785714285714286\n",
      "depth: 8 , 0.5786163522012578\n",
      "depth: 9 , 0.5833333333333334\n",
      "depth: 10 , 0.5831062670299727\n",
      "depth: 11 , 0.5839210155148096\n",
      "depth: 12 , 0.5882352941176472\n",
      "depth: 13 , 0.5842349304482226\n",
      "depth: 14 , 0.5759493670886076\n",
      "depth: 15 , 0.5561139028475712\n",
      "depth: 16 , 0.5463743676222597\n",
      "depth: 17 , 0.5376712328767124\n",
      "depth: 18 , 0.5288966725043783\n",
      "depth: 19 , 0.5432525951557095\n"
     ]
    }
   ],
   "source": [
    "#first, I'll use class_weight='balanced'\n",
    "for depth in range(1, 20, 1):\n",
    "    model = RandomForestClassifier(random_state=12345, n_estimators=20,max_depth=depth,class_weight='balanced')\n",
    "    # < train the model with training data set>\n",
    "    model.fit(features_train_scaled, target_train_array)\n",
    "    predictions_valid = model.predict(features_valid_scaled)\n",
    "    #validation of the data\n",
    "    print('depth:',depth,',',f1_score(target_valid_array, predictions_valid)) "
   ]
  },
  {
   "cell_type": "code",
   "execution_count": 60,
   "id": "ecb5ad98",
   "metadata": {},
   "outputs": [
    {
     "name": "stdout",
     "output_type": "stream",
     "text": [
      "n_estimators: 1 , 0.4684684684684685\n",
      "n_estimators: 2 , 0.401263823064771\n",
      "n_estimators: 3 , 0.5162162162162163\n",
      "n_estimators: 4 , 0.5110782865583455\n",
      "n_estimators: 5 , 0.5396383866481225\n",
      "n_estimators: 6 , 0.5459940652818991\n",
      "n_estimators: 7 , 0.5574712643678161\n",
      "n_estimators: 8 , 0.552437223042836\n",
      "n_estimators: 9 , 0.5483870967741935\n",
      "n_estimators: 10 , 0.5667166416791605\n",
      "n_estimators: 11 , 0.5620328849028401\n",
      "n_estimators: 12 , 0.5701492537313433\n",
      "n_estimators: 13 , 0.5782414307004471\n",
      "n_estimators: 14 , 0.5824665676077266\n",
      "n_estimators: 15 , 0.5812220566318926\n",
      "n_estimators: 16 , 0.5837037037037037\n",
      "n_estimators: 17 , 0.5887573964497042\n",
      "n_estimators: 18 , 0.5833333333333334\n",
      "n_estimators: 19 , 0.5865102639296187\n"
     ]
    }
   ],
   "source": [
    "for i in range(1, 20, 1):\n",
    "    model = RandomForestClassifier(random_state=12345, n_estimators=i,max_depth=12,class_weight='balanced')\n",
    "    # < train the model with training data set>\n",
    "    model.fit(features_train_scaled, target_train_array)\n",
    "    predictions_valid = model.predict(features_valid_scaled)\n",
    "    #validation of the data\n",
    "    print('n_estimators:',i,',',f1_score(target_valid_array, predictions_valid)) "
   ]
  },
  {
   "cell_type": "code",
   "execution_count": 61,
   "id": "727f37a6",
   "metadata": {},
   "outputs": [
    {
     "name": "stdout",
     "output_type": "stream",
     "text": [
      "n_estimators: 15 , 0.5812220566318926\n",
      "n_estimators: 20 , 0.5882352941176472\n",
      "n_estimators: 25 , 0.5816023738872403\n",
      "n_estimators: 30 , 0.5882352941176471\n",
      "n_estimators: 35 , 0.598473282442748\n",
      "n_estimators: 40 , 0.5878787878787879\n",
      "n_estimators: 45 , 0.5882352941176471\n",
      "n_estimators: 50 , 0.5909090909090909\n",
      "n_estimators: 55 , 0.5945945945945946\n",
      "n_estimators: 60 , 0.5864661654135339\n",
      "n_estimators: 65 , 0.5757575757575758\n",
      "n_estimators: 70 , 0.5804511278195489\n",
      "n_estimators: 75 , 0.5740181268882175\n",
      "n_estimators: 80 , 0.5864661654135339\n",
      "n_estimators: 85 , 0.5847076461769115\n",
      "n_estimators: 90 , 0.5839636913767019\n",
      "n_estimators: 95 , 0.582701062215478\n"
     ]
    }
   ],
   "source": [
    "for i in range(15, 100, 5):\n",
    "    model = RandomForestClassifier(random_state=12345, n_estimators=i,max_depth=12,class_weight='balanced')\n",
    "    # < train the model with training data set>\n",
    "    model.fit(features_train_scaled, target_train_array)\n",
    "    predictions_valid = model.predict(features_valid_scaled)\n",
    "    #validation of the data\n",
    "    print('n_estimators:',i,',',f1_score(target_valid_array, predictions_valid)) "
   ]
  },
  {
   "cell_type": "code",
   "execution_count": 99,
   "id": "aa8459d4",
   "metadata": {},
   "outputs": [
    {
     "name": "stdout",
     "output_type": "stream",
     "text": [
      "f1 score for validation set: 0.5945945945945946\n"
     ]
    }
   ],
   "source": [
    "model = RandomForestClassifier(random_state=12345, n_estimators=55,max_depth=12,class_weight='balanced')\n",
    "# < train the model with training data set>\n",
    "model.fit(features_train_scaled, target_train_array)\n",
    "predictions_valid = model.predict(features_valid_scaled)\n",
    "#validation of the data\n",
    "print('f1 score for validation set:',f1_score(target_valid_array, predictions_valid)) "
   ]
  },
  {
   "cell_type": "code",
   "execution_count": 63,
   "id": "d72ed00f",
   "metadata": {},
   "outputs": [],
   "source": [
    "probabilities_valid = model.predict_proba(features_valid_scaled)"
   ]
  },
  {
   "cell_type": "code",
   "execution_count": 64,
   "id": "0e2c6859",
   "metadata": {},
   "outputs": [],
   "source": [
    "probabilities_one_valid = probabilities_valid[:, 1]"
   ]
  },
  {
   "cell_type": "code",
   "execution_count": 65,
   "id": "3a1f6778",
   "metadata": {},
   "outputs": [
    {
     "name": "stdout",
     "output_type": "stream",
     "text": [
      "auc_roc score for downsampeling: 0.8401932719723498\n"
     ]
    }
   ],
   "source": [
    "auc_roc= roc_auc_score(target_valid_array, probabilities_one_valid)\n",
    "print('auc_roc score for downsampeling:',auc_roc)"
   ]
  },
  {
   "cell_type": "code",
   "execution_count": 66,
   "id": "51475ae6",
   "metadata": {},
   "outputs": [
    {
     "data": {
      "image/png": "[encoded data removed]",
      "text/plain": [
       "<Figure size 432x288 with 1 Axes>"
      ]
     },
     "metadata": {
      "needs_background": "light"
     },
     "output_type": "display_data"
    }
   ],
   "source": [
    "fpr, tpr, thresholds = roc_curve(target_valid, probabilities_one_valid)\n",
    "\n",
    "plt.figure()\n",
    "plt.plot(fpr, tpr)\n",
    "# ROC curve for random model (looks like a straight line)\n",
    "plt.plot([0, 1], [0, 1], linestyle='--')\n",
    "\n",
    "# < use the functions plt.xlim() and plt.ylim() to\n",
    "#   set the boundary for the axes from 0 to 1 >\n",
    "plt.xlim([0, 1])\n",
    "plt.ylim([0, 1])\n",
    "# < use the functions plt.xlabel() and plt.ylabel() to\n",
    "#   name the axes \"False Positive Rate\" and \"True Positive Rate\" >\n",
    "plt.xlabel(\"False Positive Rate\")\n",
    "plt.ylabel(\"True Positive Rate\")\n",
    "# < add the heading \"ROC curve\" with the function plt.title() >\n",
    "plt.title(\"ROC curve\")\n",
    "plt.show()"
   ]
  },
  {
   "cell_type": "markdown",
   "id": "eaf44a8e",
   "metadata": {},
   "source": [
    "<div style=\"border:solid black 2px; padding: 20px\"> <b>Note: </b><br>\n",
    "Best balanced without down/upsampling for RandomForestClassifier: n_estimators = 55, depth = 12. f1 score =0.5988700564971751,  it is not good enough, we need to try with down/upsampling"
   ]
  },
  {
   "cell_type": "markdown",
   "id": "849278a5",
   "metadata": {},
   "source": [
    "### Upsampling <a class=\"anchor\" id=\"Upsampling\"></a>"
   ]
  },
  {
   "cell_type": "code",
   "execution_count": 67,
   "id": "8d618300",
   "metadata": {},
   "outputs": [],
   "source": [
    "#upsample() function\n",
    "def upsample(features, target, repeat):\n",
    "    features_zeros = features[target == 0]\n",
    "    features_ones = features[target == 1]\n",
    "    target_zeros = target[target == 0]\n",
    "    target_ones = target[target == 1]\n",
    "\n",
    "    features_upsampled = pd.concat([features_zeros] + [features_ones] * repeat)\n",
    "    target_upsampled = pd.concat([target_zeros] + [target_ones] * repeat)\n",
    "\n",
    "    features_upsampled, target_upsampled = shuffle(\n",
    "        features_upsampled, target_upsampled, random_state=12345\n",
    "    )\n",
    "\n",
    "    return features_upsampled, target_upsampled\n",
    "\n"
   ]
  },
  {
   "cell_type": "code",
   "execution_count": 68,
   "id": "4ee42d16",
   "metadata": {},
   "outputs": [],
   "source": [
    "#using the function on features_train, target_train to balance the 4 times difference\n",
    "features_upsampled, target_upsampled = upsample(\n",
    "    features_train, target_train, 3\n",
    ")"
   ]
  },
  {
   "cell_type": "code",
   "execution_count": 69,
   "id": "ed70b669",
   "metadata": {},
   "outputs": [],
   "source": [
    "features_train_scaled_upsampled = scaler.fit_transform(features_upsampled)"
   ]
  },
  {
   "cell_type": "code",
   "execution_count": 70,
   "id": "c44a3c6e",
   "metadata": {},
   "outputs": [],
   "source": [
    "target_train_array_upsampled = np.array(target_upsampled)"
   ]
  },
  {
   "cell_type": "code",
   "execution_count": 71,
   "id": "859b5306",
   "metadata": {},
   "outputs": [
    {
     "data": {
      "text/plain": [
       "4346"
      ]
     },
     "execution_count": 71,
     "metadata": {},
     "output_type": "execute_result"
    }
   ],
   "source": [
    "(target_train_array_upsampled == 0).sum()"
   ]
  },
  {
   "cell_type": "code",
   "execution_count": 72,
   "id": "c3b5a1de",
   "metadata": {},
   "outputs": [
    {
     "data": {
      "text/plain": [
       "3315"
      ]
     },
     "execution_count": 72,
     "metadata": {},
     "output_type": "execute_result"
    }
   ],
   "source": [
    "(target_train_array_upsampled == 1).sum()"
   ]
  },
  {
   "cell_type": "code",
   "execution_count": 73,
   "id": "f205c3dc",
   "metadata": {},
   "outputs": [
    {
     "name": "stdout",
     "output_type": "stream",
     "text": [
      "depth: 1 , 0.4751381215469613\n",
      "depth: 2 , 0.503155996393147\n",
      "depth: 3 , 0.5022831050228309\n",
      "depth: 4 , 0.5386138613861386\n",
      "depth: 5 , 0.5330739299610895\n",
      "depth: 6 , 0.5445240532241556\n",
      "depth: 7 , 0.5587301587301587\n",
      "depth: 8 , 0.5560344827586207\n",
      "depth: 9 , 0.549618320610687\n",
      "depth: 10 , 0.5635103926096998\n",
      "depth: 11 , 0.5700365408038977\n",
      "depth: 12 , 0.5634146341463414\n",
      "depth: 13 , 0.5608465608465608\n",
      "depth: 14 , 0.5760000000000001\n",
      "depth: 15 , 0.558904109589041\n",
      "depth: 16 , 0.5780189959294437\n",
      "depth: 17 , 0.5400843881856541\n",
      "depth: 18 , 0.5763195435092725\n",
      "depth: 19 , 0.5609065155807367\n"
     ]
    }
   ],
   "source": [
    "#training the model, iterating through depth\n",
    "for depth in range(1, 20, 1):\n",
    "    model = RandomForestClassifier(random_state=12345, n_estimators=12,max_depth=depth,class_weight='balanced')\n",
    "    # < train the model with training data set>\n",
    "    model.fit(features_train_scaled_upsampled, target_train_array_upsampled)\n",
    "    predictions_valid = model.predict(features_valid_scaled)\n",
    "    #validation of the data\n",
    "    print('depth:',depth,',',f1_score(target_valid_array, predictions_valid)) "
   ]
  },
  {
   "cell_type": "code",
   "execution_count": 75,
   "id": "438f993e",
   "metadata": {},
   "outputs": [
    {
     "name": "stdout",
     "output_type": "stream",
     "text": [
      "n_estimators: 10 , 0.5631067961165048\n",
      "n_estimators: 20 , 0.5828729281767957\n",
      "n_estimators: 30 , 0.5754189944134078\n",
      "n_estimators: 40 , 0.5872576177285319\n",
      "n_estimators: 50 , 0.599721059972106\n",
      "n_estimators: 60 , 0.5880721220527045\n",
      "n_estimators: 70 , 0.5936199722607489\n",
      "n_estimators: 80 , 0.5872576177285319\n",
      "n_estimators: 90 , 0.5939226519337018\n",
      "n_estimators: 100 , 0.5930069930069931\n",
      "n_estimators: 110 , 0.5963938973647711\n",
      "n_estimators: 120 , 0.6033519553072626\n",
      "n_estimators: 130 , 0.600558659217877\n",
      "n_estimators: 140 , 0.6008344923504868\n",
      "n_estimators: 150 , 0.602510460251046\n",
      "n_estimators: 160 , 0.6044568245125348\n",
      "n_estimators: 170 , 0.5958041958041957\n",
      "n_estimators: 180 , 0.5941422594142259\n",
      "n_estimators: 190 , 0.5955678670360111\n"
     ]
    }
   ],
   "source": [
    "#training the model, iterating through n_estimatorswith depth 16\n",
    "for i in range(10, 200, 10):\n",
    "    model = RandomForestClassifier(random_state=12345, n_estimators=i,max_depth=16,class_weight='balanced')\n",
    "    # < train the model with training data set>\n",
    "    model.fit(features_train_scaled_upsampled, target_train_array_upsampled)\n",
    "    predictions_valid = model.predict(features_valid_scaled)\n",
    "    #validation of the data\n",
    "    print('n_estimators:',i,',',f1_score(target_valid_array, predictions_valid)) "
   ]
  },
  {
   "cell_type": "code",
   "execution_count": 76,
   "id": "b55c4b6c",
   "metadata": {},
   "outputs": [
    {
     "name": "stdout",
     "output_type": "stream",
     "text": [
      "depth: 16 , 0.6044568245125348\n",
      "depth: 17 , 0.5966386554621849\n",
      "depth: 18 , 0.596045197740113\n",
      "depth: 19 , 0.599713055954089\n",
      "depth: 20 , 0.6031294452347085\n",
      "depth: 21 , 0.5991440798858773\n",
      "depth: 22 , 0.6068376068376069\n",
      "depth: 23 , 0.5897435897435898\n",
      "depth: 24 , 0.6002844950213371\n",
      "depth: 25 , 0.5932203389830508\n",
      "depth: 26 , 0.5991561181434599\n",
      "depth: 27 , 0.5952045133991538\n",
      "depth: 28 , 0.5971830985915494\n",
      "depth: 29 , 0.5971830985915494\n"
     ]
    }
   ],
   "source": [
    "#training the model, iterating through n_estimators\n",
    "for depth in range(16, 30, 1):\n",
    "    model = RandomForestClassifier(random_state=12345, n_estimators=160,max_depth=depth,class_weight='balanced')\n",
    "    # < train the model with training data set>\n",
    "    model.fit(features_train_scaled_upsampled, target_train_array_upsampled)\n",
    "    predictions_valid = model.predict(features_valid_scaled)\n",
    "    #validation of the data\n",
    "    print('depth:',depth,',',f1_score(target_valid_array, predictions_valid)) "
   ]
  },
  {
   "cell_type": "code",
   "execution_count": 101,
   "id": "7116ef16",
   "metadata": {},
   "outputs": [
    {
     "name": "stdout",
     "output_type": "stream",
     "text": [
      "f1 score for validation set: 0.6044568245125348\n"
     ]
    }
   ],
   "source": [
    "model = RandomForestClassifier(random_state=12345, n_estimators=160,max_depth=16,class_weight='balanced')\n",
    "# < train the model with training data set>\n",
    "model.fit(features_train_scaled_upsampled, target_train_array_upsampled)\n",
    "predictions_valid = model.predict(features_valid_scaled)\n",
    "#validation of the data\n",
    "print('f1 score for validation set:',f1_score(target_valid_array, predictions_valid)) "
   ]
  },
  {
   "cell_type": "markdown",
   "id": "df7d8cb3",
   "metadata": {},
   "source": [
    "#### Auc Roc for model with upsampeling"
   ]
  },
  {
   "cell_type": "code",
   "execution_count": 78,
   "id": "3eda9833",
   "metadata": {},
   "outputs": [
    {
     "name": "stdout",
     "output_type": "stream",
     "text": [
      "auc_roc score for upsampeling: 0.8422712009257087\n"
     ]
    }
   ],
   "source": [
    "probabilities_valid = model.predict_proba(features_valid_scaled)\n",
    "probabilities_one_valid = probabilities_valid[:, 1]\n",
    "auc_roc= roc_auc_score(target_valid_array, probabilities_one_valid)\n",
    "print('auc_roc score for upsampeling:', auc_roc)"
   ]
  },
  {
   "cell_type": "code",
   "execution_count": 79,
   "id": "0dfd730e",
   "metadata": {},
   "outputs": [
    {
     "data": {
      "image/png": "[encoded data removed]",
      "text/plain": [
       "<Figure size 432x288 with 1 Axes>"
      ]
     },
     "metadata": {
      "needs_background": "light"
     },
     "output_type": "display_data"
    }
   ],
   "source": [
    "fpr, tpr, thresholds = roc_curve(target_valid, probabilities_one_valid)\n",
    "\n",
    "plt.figure()\n",
    "plt.plot(fpr, tpr)\n",
    "# ROC curve for random model (looks like a straight line)\n",
    "plt.plot([0, 1], [0, 1], linestyle='--')\n",
    "\n",
    "# < use the functions plt.xlim() and plt.ylim() to\n",
    "#   set the boundary for the axes from 0 to 1 >\n",
    "plt.xlim([0, 1])\n",
    "plt.ylim([0, 1])\n",
    "# < use the functions plt.xlabel() and plt.ylabel() to\n",
    "#   name the axes \"False Positive Rate\" and \"True Positive Rate\" >\n",
    "plt.xlabel(\"False Positive Rate\")\n",
    "plt.ylabel(\"True Positive Rate\")\n",
    "# < add the heading \"ROC curve\" with the function plt.title() >\n",
    "plt.title(\"ROC curve\")\n",
    "plt.show()"
   ]
  },
  {
   "cell_type": "markdown",
   "id": "a6892daf",
   "metadata": {},
   "source": [
    "<div style=\"border:solid black 2px; padding: 20px\"> <b>Findings upsampling: </b><br>\n",
    "Best for upsampling with RandomForestClassifier: n_estimators = 160, depth = 16. f1 score =0.60431654676259.Aoc Roc score of ~0.83, meaning the model has high quality."
   ]
  },
  {
   "cell_type": "markdown",
   "id": "adfd4889",
   "metadata": {},
   "source": [
    "### Downsampeling <a class=\"anchor\" id=\"Downsampeling\"></a>"
   ]
  },
  {
   "cell_type": "code",
   "execution_count": 80,
   "id": "78ee3aa2",
   "metadata": {},
   "outputs": [],
   "source": [
    "def downsample(features, target, fraction):\n",
    "    features_zeros = features[target == 0]\n",
    "    features_ones = features[target == 1]\n",
    "    target_zeros = target[target == 0]\n",
    "    target_ones = target[target == 1]\n",
    "\n",
    "    features_downsampled = pd.concat(\n",
    "        [features_zeros.sample(frac=fraction, random_state=12345)]\n",
    "        + [features_ones]\n",
    "    )\n",
    "    target_downsampled = pd.concat(\n",
    "        [target_zeros.sample(frac=fraction, random_state=12345)]\n",
    "        + [target_ones]\n",
    "    )\n",
    "\n",
    "    features_downsampled, target_downsampled = shuffle(\n",
    "        features_downsampled, target_downsampled, random_state=12345\n",
    "    )\n",
    "\n",
    "    return features_downsampled, target_downsampled"
   ]
  },
  {
   "cell_type": "code",
   "execution_count": 81,
   "id": "1d794b2d",
   "metadata": {},
   "outputs": [],
   "source": [
    "#using the function on features_train, target_train to balance the 4 times difference\n",
    "features_downsampled, target_downsampled = downsample(\n",
    "    features_train, target_train, 0.5\n",
    ")"
   ]
  },
  {
   "cell_type": "code",
   "execution_count": 82,
   "id": "62e48adf",
   "metadata": {},
   "outputs": [],
   "source": [
    "features_train_scaled_downsampled = scaler.fit_transform(features_downsampled)"
   ]
  },
  {
   "cell_type": "code",
   "execution_count": 83,
   "id": "140838f7",
   "metadata": {},
   "outputs": [],
   "source": [
    "target_train_array_downsampled = np.array(target_downsampled)"
   ]
  },
  {
   "cell_type": "code",
   "execution_count": 84,
   "id": "eaf0daf6",
   "metadata": {},
   "outputs": [
    {
     "data": {
      "text/plain": [
       "2173"
      ]
     },
     "execution_count": 84,
     "metadata": {},
     "output_type": "execute_result"
    }
   ],
   "source": [
    "(target_train_array_downsampled == 0).sum()"
   ]
  },
  {
   "cell_type": "code",
   "execution_count": 85,
   "id": "f263e19f",
   "metadata": {},
   "outputs": [
    {
     "data": {
      "text/plain": [
       "1105"
      ]
     },
     "execution_count": 85,
     "metadata": {},
     "output_type": "execute_result"
    }
   ],
   "source": [
    "(target_train_array_downsampled == 1).sum()"
   ]
  },
  {
   "cell_type": "code",
   "execution_count": 86,
   "id": "312ed617",
   "metadata": {},
   "outputs": [
    {
     "name": "stdout",
     "output_type": "stream",
     "text": [
      "depth: 1 , 0.47926267281106\n",
      "depth: 2 , 0.5176695319961795\n",
      "depth: 3 , 0.5406504065040649\n",
      "depth: 4 , 0.5445344129554657\n",
      "depth: 5 , 0.5617486338797815\n",
      "depth: 6 , 0.5633187772925765\n",
      "depth: 7 , 0.5691788526434196\n",
      "depth: 8 , 0.5747126436781609\n",
      "depth: 9 , 0.574095682613769\n",
      "depth: 10 , 0.5738295318127251\n",
      "depth: 11 , 0.5855513307984792\n",
      "depth: 12 , 0.587641866330391\n",
      "depth: 13 , 0.5859375\n",
      "depth: 14 , 0.5896414342629481\n",
      "depth: 15 , 0.5957446808510639\n",
      "depth: 16 , 0.5976095617529881\n",
      "depth: 17 , 0.5860215053763441\n",
      "depth: 18 , 0.5994550408719346\n",
      "depth: 19 , 0.5876010781671158\n"
     ]
    }
   ],
   "source": [
    "#training the model, iterating through depth\n",
    "for depth in range(1, 20, 1):\n",
    "    model = RandomForestClassifier(random_state=12345, n_estimators=50,max_depth=depth,class_weight='balanced')\n",
    "    # < train the model with training data set>\n",
    "    model.fit(features_train_scaled_downsampled, target_train_array_downsampled)\n",
    "    predictions_valid = model.predict(features_valid_scaled)\n",
    "    #validation of the data\n",
    "    print('depth:',depth,',',f1_score(target_valid_array, predictions_valid)) "
   ]
  },
  {
   "cell_type": "code",
   "execution_count": 87,
   "id": "23841d19",
   "metadata": {},
   "outputs": [
    {
     "name": "stdout",
     "output_type": "stream",
     "text": [
      "n_estimators: 10 , 0.5917808219178082\n",
      "n_estimators: 20 , 0.5932885906040267\n",
      "n_estimators: 30 , 0.6104417670682731\n",
      "n_estimators: 40 , 0.6063829787234042\n",
      "n_estimators: 50 , 0.5976095617529881\n",
      "n_estimators: 60 , 0.5992010652463382\n",
      "n_estimators: 70 , 0.6047745358090185\n",
      "n_estimators: 80 , 0.5928853754940713\n",
      "n_estimators: 90 , 0.5973333333333334\n",
      "n_estimators: 100 , 0.6013422818791946\n",
      "n_estimators: 110 , 0.6034712950600801\n",
      "n_estimators: 120 , 0.6032171581769438\n",
      "n_estimators: 130 , 0.5978552278820375\n",
      "n_estimators: 140 , 0.6002691790040378\n",
      "n_estimators: 150 , 0.6013422818791946\n",
      "n_estimators: 160 , 0.6021505376344085\n",
      "n_estimators: 170 , 0.6000000000000001\n",
      "n_estimators: 180 , 0.5964912280701754\n",
      "n_estimators: 190 , 0.601078167115903\n"
     ]
    }
   ],
   "source": [
    "#training the model, iterating through n_estimatorswith depth = 16\n",
    "\n",
    "for i in range(10, 200, 10):\n",
    "    model = RandomForestClassifier(random_state=12345, n_estimators=i,max_depth=16,class_weight='balanced')\n",
    "    # < train the model with training data set>\n",
    "    model.fit(features_train_scaled_downsampled, target_train_array_downsampled)\n",
    "    predictions_valid = model.predict(features_valid_scaled)\n",
    "    #validation of the data\n",
    "    print('n_estimators:',i,',',f1_score(target_valid_array, predictions_valid)) "
   ]
  },
  {
   "cell_type": "code",
   "execution_count": 88,
   "id": "c46f0ff4",
   "metadata": {},
   "outputs": [
    {
     "name": "stdout",
     "output_type": "stream",
     "text": [
      "f1 score for validation set: 0.6104417670682731\n"
     ]
    }
   ],
   "source": [
    "model = RandomForestClassifier(random_state=12345, n_estimators=30,max_depth=16,class_weight='balanced')\n",
    "# < train the model with training data set>\n",
    "model.fit(features_train_scaled_downsampled, target_train_array_downsampled)\n",
    "predictions_valid = model.predict(features_valid_scaled)\n",
    "#validation of the data\n",
    "print('f1 score for validation set:',f1_score(target_valid_array, predictions_valid)) "
   ]
  },
  {
   "cell_type": "markdown",
   "id": "9c5be0ca",
   "metadata": {},
   "source": [
    "#### Auc Roc for model with downsampeling"
   ]
  },
  {
   "cell_type": "code",
   "execution_count": 89,
   "id": "1bfb464e",
   "metadata": {},
   "outputs": [
    {
     "name": "stdout",
     "output_type": "stream",
     "text": [
      "auc_roc score for downsampeling: 0.8373325745142677\n"
     ]
    }
   ],
   "source": [
    "probabilities_valid = model.predict_proba(features_valid_scaled)\n",
    "probabilities_one_valid = probabilities_valid[:, 1]\n",
    "auc_roc= roc_auc_score(target_valid_array, probabilities_one_valid)\n",
    "print('auc_roc score for downsampeling:',auc_roc)"
   ]
  },
  {
   "cell_type": "code",
   "execution_count": 90,
   "id": "70eca3d7",
   "metadata": {},
   "outputs": [
    {
     "data": {
      "image/png": "[encoded data removed]",
      "text/plain": [
       "<Figure size 432x288 with 1 Axes>"
      ]
     },
     "metadata": {
      "needs_background": "light"
     },
     "output_type": "display_data"
    }
   ],
   "source": [
    "fpr, tpr, thresholds = roc_curve(target_valid, probabilities_one_valid)\n",
    "\n",
    "plt.figure()\n",
    "plt.plot(fpr, tpr)\n",
    "# ROC curve for random model (looks like a straight line)\n",
    "plt.plot([0, 1], [0, 1], linestyle='--')\n",
    "\n",
    "# < use the functions plt.xlim() and plt.ylim() to\n",
    "#   set the boundary for the axes from 0 to 1 >\n",
    "plt.xlim([0, 1])\n",
    "plt.ylim([0, 1])\n",
    "# < use the functions plt.xlabel() and plt.ylabel() to\n",
    "#   name the axes \"False Positive Rate\" and \"True Positive Rate\" >\n",
    "plt.xlabel(\"False Positive Rate\")\n",
    "plt.ylabel(\"True Positive Rate\")\n",
    "# < add the heading \"ROC curve\" with the function plt.title() >\n",
    "plt.title(\"ROC curve\")\n",
    "plt.show()"
   ]
  },
  {
   "cell_type": "markdown",
   "id": "3b96e313",
   "metadata": {},
   "source": [
    "<div style=\"border:solid black 2px; padding: 20px\"> <b>Findings upsampling: </b><br>\n",
    "Best for downsampling with RandomForestClassifier: n_estimators = 30, depth = 16. f1 score = 0.6073871409028728.Aoc Roc score of ~0.83, meaning the model has high quality."
   ]
  },
  {
   "cell_type": "markdown",
   "id": "d3c6f43c",
   "metadata": {},
   "source": [
    "### Test <a class=\"anchor\" id=\"test\"></a>"
   ]
  },
  {
   "cell_type": "markdown",
   "id": "c5b5f154",
   "metadata": {},
   "source": [
    "##### f1 score without addressing the imbalance"
   ]
  },
  {
   "cell_type": "code",
   "execution_count": 105,
   "id": "beefe3ec",
   "metadata": {},
   "outputs": [
    {
     "name": "stdout",
     "output_type": "stream",
     "text": [
      "f1 score test set: 0.5675675675675675\n"
     ]
    }
   ],
   "source": [
    "model = RandomForestClassifier(random_state=12345, n_estimators = 600 , max_depth = 29.)\n",
    "# < train the model with training data set>\n",
    "model.fit(features_train_scaled, target_train_array)\n",
    "predictions_valid = model.predict(features_valid_scaled)\n",
    "#validation of the data\n",
    "print('f1 score test set:',f1_score(target_valid_array, predictions_valid))\n"
   ]
  },
  {
   "cell_type": "markdown",
   "id": "f8701395",
   "metadata": {},
   "source": [
    "##### test the modle with class_weight='balanced' only on the test set"
   ]
  },
  {
   "cell_type": "code",
   "execution_count": 113,
   "id": "f63bfc32",
   "metadata": {},
   "outputs": [
    {
     "name": "stdout",
     "output_type": "stream",
     "text": [
      "f1 score test set: 0.6124137931034483\n"
     ]
    }
   ],
   "source": [
    "model = RandomForestClassifier(random_state=12345, n_estimators=55,max_depth=12,class_weight='balanced')\n",
    "# < train the model with training data set>\n",
    "model.fit(features_train_scaled, target_train_array)\n",
    "predictions_test = model.predict(features_test_scaled)\n",
    "#validation of the data\n",
    "print('f1 score test set:',f1_score(target_test_array, predictions_test)) "
   ]
  },
  {
   "cell_type": "markdown",
   "id": "ebafd71f",
   "metadata": {},
   "source": [
    "##### test the modle with upsampling on the test set"
   ]
  },
  {
   "cell_type": "code",
   "execution_count": 114,
   "id": "0451a5c1",
   "metadata": {},
   "outputs": [
    {
     "name": "stdout",
     "output_type": "stream",
     "text": [
      "f1 score test set: 0.6211340206185567\n"
     ]
    }
   ],
   "source": [
    "model = RandomForestClassifier(random_state=12345, n_estimators=160,max_depth=16,class_weight='balanced')\n",
    "# < train the model with training data set>\n",
    "model.fit(features_train_scaled_upsampled, target_train_array_upsampled)\n",
    "predictions_test = model.predict(features_test_scaled)\n",
    "#validation of the data\n",
    "print('f1 score test set:',f1_score(target_test_array, predictions_test)) "
   ]
  },
  {
   "cell_type": "markdown",
   "id": "0b489854",
   "metadata": {},
   "source": [
    "##### test the modle with downsamling on the test set"
   ]
  },
  {
   "cell_type": "code",
   "execution_count": 115,
   "id": "29fc9ba6",
   "metadata": {},
   "outputs": [
    {
     "name": "stdout",
     "output_type": "stream",
     "text": [
      "f1 score for validation set: 0.6027060270602707\n"
     ]
    }
   ],
   "source": [
    "model = RandomForestClassifier(random_state=12345, n_estimators=30,max_depth=16,class_weight='balanced')\n",
    "# < train the model with training data set>\n",
    "model.fit(features_train_scaled_downsampled, target_train_array_downsampled)\n",
    "predictions_test = model.predict(features_test_scaled)\n",
    "#validation of the data\n",
    "print('f1 score for validation set:',f1_score(target_test_array, predictions_test))"
   ]
  },
  {
   "cell_type": "markdown",
   "id": "94f62bda",
   "metadata": {},
   "source": [
    "## Conclusion <a class=\"anchor\" id=\"conclusion\"></a>"
   ]
  },
  {
   "cell_type": "markdown",
   "id": "a2ad67e9",
   "metadata": {},
   "source": [
    "The data needed to be changed in order to use in a regression model. There were outliers like 84 years old bank customers, or the missing data in the tenure feature, that needed to be dropped. in all, there are not many differences between models except the CPU usage. the best model in this perspective is the \"class_weight='balanced' only\". However, the upsample model has the best f1 score. in conclusion, we need to decide what is more important, a fast model or a higher quality model. If it is quality I'll choose the upsampling and maybe try to adjust the upsampling and the model, if it is CPU, then with class_weight='balanced' only model I did is the best one.  "
   ]
  }
 ],
 "metadata": {
  "kernelspec": {
   "display_name": "Python 3 (ipykernel)",
   "language": "python",
   "name": "python3"
  },
  "language_info": {
   "codemirror_mode": {
    "name": "ipython",
    "version": 3
   },
   "file_extension": ".py",
   "mimetype": "text/x-python",
   "name": "python",
   "nbconvert_exporter": "python",
   "pygments_lexer": "ipython3",
   "version": "3.9.5"
  },
  "toc": {
   "base_numbering": 1,
   "nav_menu": {},
   "number_sections": true,
   "sideBar": true,
   "skip_h1_title": true,
   "title_cell": "Table of Contents",
   "title_sidebar": "Contents",
   "toc_cell": false,
   "toc_position": {},
   "toc_section_display": true,
   "toc_window_display": false
  }
 },
 "nbformat": 4,
 "nbformat_minor": 5
}
